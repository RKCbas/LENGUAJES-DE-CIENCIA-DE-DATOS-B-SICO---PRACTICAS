{
 "cells": [
  {
   "cell_type": "markdown",
   "id": "e4de73f5",
   "metadata": {},
   "source": [
    "# Funciones con Python\n",
    "\n",
    "Esta actividad tiene como objetivo evaluar la comprensión de las funciones de python. A través de los ejercicios se evaluará la definición y utilización de funciones, manejo de argumentos, retorno de valores y funciones avanzadas como lambda para operaciones rápidas y concisas. \n",
    "También se estarán practicando funciones en operaciones de datos como filtrado, ordenamiento y mapeo."
   ]
  },
  {
   "cell_type": "markdown",
   "id": "9371cad0",
   "metadata": {},
   "source": [
    "1. Escribe una función llamada saludar que imprima ¡Hola, Mundo! cada vez que se llama."
   ]
  },
  {
   "cell_type": "code",
   "execution_count": 1,
   "id": "61ba9433",
   "metadata": {},
   "outputs": [
    {
     "name": "stdout",
     "output_type": "stream",
     "text": [
      "¡Hola, Mundo!\n",
      "¡Hola, Mundo!\n",
      "¡Hola, Mundo!\n",
      "¡Hola, Mundo!\n",
      "¡Hola, Mundo!\n"
     ]
    }
   ],
   "source": [
    "def saludar():\n",
    "    print(\"¡Hola, Mundo!\")\n",
    "\n",
    "for i in range(5):\n",
    "    saludar()"
   ]
  },
  {
   "cell_type": "markdown",
   "id": "f3beb2ab",
   "metadata": {},
   "source": [
    "2. Crea una función sumar que tome dos números como argumentos y devuelva su suma."
   ]
  },
  {
   "cell_type": "code",
   "execution_count": 5,
   "id": "856e0e93",
   "metadata": {},
   "outputs": [
    {
     "name": "stdout",
     "output_type": "stream",
     "text": [
      "7 + 4 = 11\n",
      "10 + 3 = 13\n",
      "4 + 9 = 13\n"
     ]
    }
   ],
   "source": [
    "import random\n",
    "\n",
    "def sumar(a, b):\n",
    "    return a + b\n",
    "\n",
    "for i in range(3):\n",
    "    a = random.randint(1, 10)\n",
    "    b = random.randint(1, 10)\n",
    "    print(f\"{a} + {b} = {sumar(a,b)}\")"
   ]
  },
  {
   "cell_type": "markdown",
   "id": "91c926e2",
   "metadata": {},
   "source": [
    "3. Escribe una función maximo que reciba dos números y devuelva el mayor de ellos."
   ]
  },
  {
   "cell_type": "code",
   "execution_count": 3,
   "id": "787955ec",
   "metadata": {},
   "outputs": [
    {
     "name": "stdout",
     "output_type": "stream",
     "text": [
      "Entre 9 y 8 el mayor es 9\n",
      "Entre 5 y 7 el mayor es 7\n",
      "Entre 1 y 5 el mayor es 5\n"
     ]
    }
   ],
   "source": [
    "import random\n",
    "\n",
    "def maximo(a, b):\n",
    "    if a > b:\n",
    "        return a\n",
    "    else:\n",
    "        return b\n",
    "\n",
    "for i in range(3):\n",
    "    a = random.randint(1, 10)\n",
    "    b = random.randint(1, 10)\n",
    "    print(f\"Entre {a} y {b} el mayor es {maximo(a,b)}\")\n"
   ]
  },
  {
   "cell_type": "markdown",
   "id": "23933a0f",
   "metadata": {},
   "source": [
    "4. Define una función imprimir_info que acepte un nombre y una edad, con un valor predeterminado de 18 para la edad, e imprima esta información."
   ]
  },
  {
   "cell_type": "code",
   "execution_count": 6,
   "id": "01e150aa",
   "metadata": {},
   "outputs": [
    {
     "name": "stdout",
     "output_type": "stream",
     "text": [
      "El nombre es Juan y la edad es 18\n",
      "El nombre es Sebastián y la edad es 22\n",
      "El nombre es Maria y la edad es 40\n"
     ]
    }
   ],
   "source": [
    "def imprimir_info(nombre, edad = 18):\n",
    "    print(f\"El nombre es {nombre} y la edad es {edad}\")\n",
    "\n",
    "imprimir_info(\"Juan\")\n",
    "imprimir_info(\"Sebastián\", 22)\n",
    "imprimir_info(edad=40, nombre=\"Maria\")"
   ]
  },
  {
   "cell_type": "markdown",
   "id": "51a7220e",
   "metadata": {},
   "source": [
    "5. Desarrolla una función promedio que acepte un número variable de argumentos numéricos y calcule su promedio."
   ]
  },
  {
   "cell_type": "code",
   "execution_count": 17,
   "id": "2fda67db",
   "metadata": {},
   "outputs": [
    {
     "name": "stdout",
     "output_type": "stream",
     "text": [
      "De los números: \n",
      "|  7 9 10  |\n",
      "El promedio es 8.67\n",
      "De los números: \n",
      "|  1 7 9 8 8  |\n",
      "El promedio es 6.60\n",
      "De los números: \n",
      "|  5 2 7 6 3  |\n",
      "El promedio es 4.60\n"
     ]
    }
   ],
   "source": [
    "import random\n",
    "\n",
    "def promedio(*args):\n",
    "    if len(args) == 0:\n",
    "        return 0\n",
    "    return sum(args) / len(args)\n",
    "\n",
    "for i in range(3):\n",
    "    args = []\n",
    "    for j in range(random.randint(1,5)):\n",
    "        args.append(random.randint(1,10))\n",
    "    print(\"De los números: \")\n",
    "    print(\"| \", *args, \" |\")\n",
    "    print(f\"El promedio es {promedio(*args):.2f}\")"
   ]
  },
  {
   "cell_type": "markdown",
   "id": "ea8f1ed6",
   "metadata": {},
   "source": [
    "6. Utiliza una función lambda para crear una pequeña función que multiplique cualquier número por 2."
   ]
  },
  {
   "cell_type": "code",
   "execution_count": 20,
   "id": "3c56896f",
   "metadata": {},
   "outputs": [
    {
     "name": "stdout",
     "output_type": "stream",
     "text": [
      "7 x 2 = 14\n",
      "6 x 2 = 12\n",
      "10 x 2 = 20\n"
     ]
    }
   ],
   "source": [
    "import random\n",
    "\n",
    "x2 = lambda x: x*2\n",
    "\n",
    "for i in range(3):\n",
    "    x = random.randint(1,10)\n",
    "    print(f\"{x} x 2 = {x2(x)}\")"
   ]
  },
  {
   "cell_type": "markdown",
   "id": "1310e57d",
   "metadata": {},
   "source": [
    "7. Escribe una función saludo_personalizado que acepte un nombre y luego llame a otra función que imprima un saludo personalizado con ese nombre."
   ]
  },
  {
   "cell_type": "code",
   "execution_count": 21,
   "id": "f1828c1b",
   "metadata": {},
   "outputs": [
    {
     "name": "stdout",
     "output_type": "stream",
     "text": [
      "Hola Marco\n",
      "Hola Sebastián\n"
     ]
    }
   ],
   "source": [
    "def saludo_personalizado(nombre):\n",
    "    def saludo():\n",
    "        print(f\"Hola {nombre}\")\n",
    "    saludo()\n",
    "\n",
    "saludo_personalizado(\"Marco\")\n",
    "saludo_personalizado(\"Sebastián\")"
   ]
  },
  {
   "cell_type": "markdown",
   "id": "5366baa1",
   "metadata": {},
   "source": [
    "8. Implementa una función recursiva factorial que calcule el factorial de un número."
   ]
  },
  {
   "cell_type": "code",
   "execution_count": 25,
   "id": "cb4518fd",
   "metadata": {},
   "outputs": [
    {
     "name": "stdout",
     "output_type": "stream",
     "text": [
      "Evaluando  el factorial de 10...\n",
      "El factorial de 10 es: 3628800\n",
      "\n",
      "Evaluando  el factorial de 1...\n",
      "El factorial de 1 es: 1\n",
      "\n",
      "Evaluando  el factorial de -5...\n",
      "No hay factoriales negativos\n",
      "\n",
      "Evaluando  el factorial de -4...\n",
      "No hay factoriales negativos\n",
      "\n",
      "Evaluando  el factorial de 5...\n",
      "El factorial de 5 es: 120\n",
      "\n"
     ]
    }
   ],
   "source": [
    "import random\n",
    "\n",
    "def factorial(n):\n",
    "    def factorial_value(x):\n",
    "        if x == 1:\n",
    "          return x\n",
    "        else:\n",
    "            return x*factorial_value(x - 1)\n",
    "        \n",
    "    if n < 0:\n",
    "        print(\"No hay factoriales negativos\")\n",
    "        return -1\n",
    "    if n == 0:\n",
    "        return 1\n",
    "    else:\n",
    "        return factorial_value(n)\n",
    "    \n",
    "for i in range(5):\n",
    "    n = random.randint(-10, 10)\n",
    "    print(f\"Evaluando  el factorial de {n}...\")\n",
    "    f = factorial(n)\n",
    "    if f >= 0:\n",
    "        print(f\"El factorial de {n} es: {f}\")\n",
    "    print()\n",
    "\n"
   ]
  },
  {
   "cell_type": "markdown",
   "id": "f2a71fca",
   "metadata": {},
   "source": [
    "9. Crea una función que utilice la función filter para filtrar todos los números pares de una lista."
   ]
  },
  {
   "cell_type": "code",
   "execution_count": 2,
   "id": "87e3c8fc",
   "metadata": {},
   "outputs": [
    {
     "name": "stdout",
     "output_type": "stream",
     "text": [
      "lista original: \n",
      "12 48 19 1 57 62 96 16 10 85 38\n",
      "lista de pares\n",
      "12 48 62 96 16 10 38\n",
      "\n",
      "lista original: \n",
      "35 46 14 38 92 89 100 58 61 99 47 66\n",
      "lista de pares\n",
      "46 14 38 92 100 58 66\n",
      "\n",
      "lista original: \n",
      "21 88 82\n",
      "lista de pares\n",
      "88 82\n",
      "\n"
     ]
    }
   ],
   "source": [
    "import random\n",
    "\n",
    "def pares(*lista):\n",
    "    return list(filter(lambda x: x % 2 == 0, lista))\n",
    "\n",
    "for i in range(3):\n",
    "    nums = []\n",
    "    for j in range(random.randint(1,20)):\n",
    "        r = random.randint(1,100)\n",
    "        nums.append(r)\n",
    "    print(\"lista original: \")\n",
    "    print(*nums)\n",
    "    print(\"lista de pares\")\n",
    "    print(*pares(*nums))\n",
    "    print()"
   ]
  },
  {
   "cell_type": "markdown",
   "id": "eb60cb5a",
   "metadata": {},
   "source": [
    "10. Escribe una función que use map para duplicar todos los elementos de una lista."
   ]
  },
  {
   "cell_type": "code",
   "execution_count": 4,
   "id": "c078c9cd",
   "metadata": {},
   "outputs": [
    {
     "name": "stdout",
     "output_type": "stream",
     "text": [
      "lista original: \n",
      "11 30 60 13 11 36 55 11 38 83 52 80 62 62 28 75\n",
      "lista de duplicados\n",
      "22 60 120 26 22 72 110 22 76 166 104 160 124 124 56 150\n",
      "\n",
      "lista original: \n",
      "57 37 34 31 46 36 56 85 15 41 49 30 53 58 6 80 27 90\n",
      "lista de duplicados\n",
      "114 74 68 62 92 72 112 170 30 82 98 60 106 116 12 160 54 180\n",
      "\n",
      "lista original: \n",
      "8 4 2 10\n",
      "lista de duplicados\n",
      "16 8 4 20\n",
      "\n"
     ]
    }
   ],
   "source": [
    "import random\n",
    "\n",
    "def duplicar(*args):\n",
    "    return list(map(lambda x: x*2, args))\n",
    "\n",
    "\n",
    "for i in range(3):\n",
    "    nums = []\n",
    "    for j in range(random.randint(1,20)):\n",
    "        r = random.randint(1,100)\n",
    "        nums.append(r)\n",
    "    print(\"lista original: \")\n",
    "    print(*nums)\n",
    "    print(\"lista de duplicados\")\n",
    "    print(*duplicar(*nums))\n",
    "    print()\n"
   ]
  },
  {
   "cell_type": "markdown",
   "id": "b95827a3",
   "metadata": {},
   "source": [
    "11. Utiliza la función reduce para encontrar el producto de una lista de números."
   ]
  },
  {
   "cell_type": "code",
   "execution_count": null,
   "id": "b8711c09",
   "metadata": {},
   "outputs": [
    {
     "name": "stdout",
     "output_type": "stream",
     "text": [
      "Producto: \n",
      "9 x 9 x 3 x 2 = 486\n",
      "\n",
      "Producto: \n",
      "5 x 4 x 10 = 200\n",
      "\n",
      "Producto: \n",
      "10 x 7 x 10 x 3 = 2100\n",
      "\n"
     ]
    }
   ],
   "source": [
    "from functools import reduce\n",
    "import random\n",
    "\n",
    "def producto_lista(*args):\n",
    "    return reduce(lambda x, y: x * y, args)\n",
    "\n",
    "for i in range(3):\n",
    "    nums = []\n",
    "    for j in range(random.randint(1,4)):\n",
    "        r = random.randint(1,10)\n",
    "        nums.append(r)\n",
    "    print(\"Producto: \")\n",
    "    producto = producto_lista(*nums)\n",
    "    nums_str = \" x \".join(str(n) for n in nums)\n",
    "    print(f\"{nums_str} = {producto}\")\n",
    "    print()"
   ]
  },
  {
   "cell_type": "markdown",
   "id": "048eab3e",
   "metadata": {},
   "source": [
    "12. Crea una función operar que tome tres argumentos: dos números y una función que especifique la operación (sumar, restar) a realizar con esos números."
   ]
  },
  {
   "cell_type": "code",
   "execution_count": 3,
   "id": "dbc981d8",
   "metadata": {},
   "outputs": [
    {
     "name": "stdout",
     "output_type": "stream",
     "text": [
      "10 + 7 = 17\n",
      "10 - 7 = 3\n",
      "7 + 5 = 12\n",
      "7 - 5 = 2\n",
      "2 + 10 = 12\n",
      "2 - 10 = -8\n"
     ]
    }
   ],
   "source": [
    "import random\n",
    "\n",
    "def ejecutar(a, b, func):\n",
    "    return func(a,b)\n",
    "\n",
    "for i in range(3):\n",
    "    a = random.randint(1,10)\n",
    "    b = random.randint(1,10)\n",
    "    suma = ejecutar(a,b,lambda x, y: x+y)\n",
    "    resta = ejecutar(a,b,lambda x, y: x-y)\n",
    "    print(f\"{a} + {b} = {suma}\")\n",
    "    print(f\"{a} - {b} = {resta}\")"
   ]
  },
  {
   "cell_type": "markdown",
   "id": "86f2a739",
   "metadata": {},
   "source": [
    "13. Define una función crear_perfil que acepte nombre, edad y **kwargs para cualquier otro atributo de perfil y los imprima."
   ]
  },
  {
   "cell_type": "code",
   "execution_count": 5,
   "id": "683214b8",
   "metadata": {},
   "outputs": [
    {
     "name": "stdout",
     "output_type": "stream",
     "text": [
      "=== Perfil de Sebastián ===\n",
      "Nombre: Sebastián\n",
      "Edad: 22\n",
      "Ciudad: CDMX\n",
      "Profesion: Ingeniero\n",
      "Hobby: Fútbol\n",
      "\n",
      "=== Perfil de Ana ===\n",
      "Nombre: Ana\n",
      "Edad: 25\n",
      "Ciudad: Puebla\n",
      "Profesion: Diseñadora\n",
      "Mascota: Gato\n",
      "\n",
      "=== Perfil de Jorge ===\n",
      "Nombre: Jorge\n",
      "Edad: 35\n",
      "Ciudad: Tijuana\n",
      "Profesion: Chef\n",
      "Deporte: Surf\n",
      "\n"
     ]
    }
   ],
   "source": [
    "def crear_perfil(nombre: str, edad, **kwargs):\n",
    "    print(f\"=== Perfil de {nombre.capitalize()} ===\")\n",
    "    print(f\"Nombre: {nombre.capitalize()}\")\n",
    "    print(f\"Edad: {edad}\")\n",
    "    for clave, valor in kwargs.items():\n",
    "        print(f\"{clave.capitalize()}: {valor}\")\n",
    "    print()\n",
    "\n",
    "crear_perfil(\"sebastián\", 22, ciudad=\"CDMX\", profesion=\"Ingeniero\", hobby=\"Fútbol\")\n",
    "crear_perfil(\"ana\", 25, ciudad=\"Puebla\", profesion=\"Diseñadora\", mascota=\"Gato\")\n",
    "crear_perfil(\"jorge\", 35, ciudad=\"Tijuana\", profesion=\"Chef\", deporte=\"Surf\")"
   ]
  },
  {
   "cell_type": "markdown",
   "id": "3809d6bc",
   "metadata": {},
   "source": [
    "14. Utiliza una función lambda para crear una función que tome tres argumentos y devuelva la suma de los tres."
   ]
  },
  {
   "cell_type": "code",
   "execution_count": 7,
   "id": "e6b03022",
   "metadata": {},
   "outputs": [
    {
     "name": "stdout",
     "output_type": "stream",
     "text": [
      "7 + 6 + 6 = 19\n",
      "\n",
      "1 + 7 + 6 = 14\n",
      "\n",
      "8 + 8 + 3 = 19\n",
      "\n"
     ]
    }
   ],
   "source": [
    "import random\n",
    "\n",
    "sum3 = lambda a, b, c : a + b + c\n",
    "\n",
    "for i in range(3):\n",
    "    a = random.randint(1,10)\n",
    "    b = random.randint(1,10)\n",
    "    c = random.randint(1,10)\n",
    "    r = sum3(a, b, c)\n",
    "    print(f\"{a} + {b} + {c} = {r}\", end=\"\\n\\n\")"
   ]
  },
  {
   "cell_type": "markdown",
   "id": "fad8e804",
   "metadata": {},
   "source": [
    "15.  Escribe una función argumentos que acepte un número arbitrario de argumentos posicionales y de palabra clave e imprima los argumentos recibidos"
   ]
  },
  {
   "cell_type": "code",
   "execution_count": 19,
   "id": "185561f7",
   "metadata": {},
   "outputs": [
    {
     "name": "stdout",
     "output_type": "stream",
     "text": [
      "hola 2\n",
      "clave = 1\n",
      "algo = 2\n",
      "\n",
      "ejemplo 5\n",
      "animal = perro\n",
      "color = azul\n",
      "\n"
     ]
    }
   ],
   "source": [
    "def print_args(*args, **kwargs):\n",
    "    print(*args)\n",
    "    for clave, valor in kwargs.items():\n",
    "        print(f\"{clave} = {valor}\")\n",
    "    print()\n",
    "\n",
    "print_args(\"hola\", 2, clave=1, algo=2)\n",
    "print_args(\"ejemplo\", 5, animal=\"perro\", color=\"azul\")"
   ]
  }
 ],
 "metadata": {
  "kernelspec": {
   "display_name": "Python 3",
   "language": "python",
   "name": "python3"
  },
  "language_info": {
   "codemirror_mode": {
    "name": "ipython",
    "version": 3
   },
   "file_extension": ".py",
   "mimetype": "text/x-python",
   "name": "python",
   "nbconvert_exporter": "python",
   "pygments_lexer": "ipython3",
   "version": "3.13.7"
  }
 },
 "nbformat": 4,
 "nbformat_minor": 5
}
