{
 "cells": [
  {
   "cell_type": "markdown",
   "id": "d2fe44a5",
   "metadata": {},
   "source": [
    "# Estructuras de datos con Python\n",
    "\n",
    "Esta actividad tiene como objetivo evaluar la comprensión sobre listas, diccionarios, tuplas y conjuntos, las cuales son estructuras fundamentales y herramientas que permiten almacenar, manipular y organizar datos de manera eficiente. Los ejercicios deberán ser desarrollados usando lo aprendido sobre funciones.\n",
    "\n",
    "## 1. Listas"
   ]
  },
  {
   "cell_type": "markdown",
   "id": "3a8e7a2d",
   "metadata": {},
   "source": [
    "1.\tEscribe un programa para crear e imprimir una lista que contenga los primeros cinco números enteros positivos."
   ]
  },
  {
   "cell_type": "code",
   "execution_count": 2,
   "id": "1e17baac",
   "metadata": {},
   "outputs": [
    {
     "name": "stdout",
     "output_type": "stream",
     "text": [
      "1 2 3 4 5\n"
     ]
    }
   ],
   "source": [
    "list = []\n",
    "for i in range(5):\n",
    "    list.append(i+1)\n",
    "print(*list)"
   ]
  },
  {
   "cell_type": "markdown",
   "id": "770126fc",
   "metadata": {},
   "source": [
    "2.\tDada la lista [1, 2, 3, 4, 5], escribe un programa que imprima el tercer elemento."
   ]
  },
  {
   "cell_type": "code",
   "execution_count": 24,
   "id": "d297bda1",
   "metadata": {},
   "outputs": [
    {
     "name": "stdout",
     "output_type": "stream",
     "text": [
      "Lista: 1, 2, 3, 4, 5\n",
      "Tercer elemento de la lista: 3\n"
     ]
    }
   ],
   "source": [
    "list = [1, 2, 3, 4, 5]\n",
    "print(\"Lista: \", end=\"\")\n",
    "print(*list, sep=\", \")\n",
    "print(f\"Tercer elemento de la lista: {list[2]}\")"
   ]
  },
  {
   "cell_type": "markdown",
   "id": "00e2d7b6",
   "metadata": {},
   "source": [
    "3.\tCrea una lista con los nombres de tres colores. Cambia el valor del segundo color por \"verde\"."
   ]
  },
  {
   "cell_type": "code",
   "execution_count": 6,
   "id": "75ac0c20",
   "metadata": {},
   "outputs": [
    {
     "name": "stdout",
     "output_type": "stream",
     "text": [
      "Colores: Azul, Amarillo, Rojo\n",
      "Colores cambiados: Azul, Verde, Rojo\n"
     ]
    }
   ],
   "source": [
    "colors = [\"Azul\", \"Amarillo\", \"Rojo\"]\n",
    "\n",
    "print(\"Colores: \", end=\"\")\n",
    "print(*colors, sep=\", \")\n",
    "colors[1] = \"Verde\"\n",
    "print(\"Colores cambiados: \", end=\"\")\n",
    "print(*colors, sep=\", \")"
   ]
  },
  {
   "cell_type": "markdown",
   "id": "a7d6d790",
   "metadata": {},
   "source": [
    "4.\tPartiendo de una lista vacía, añade los elementos 1, 2 y 3 utilizando el método append()."
   ]
  },
  {
   "cell_type": "code",
   "execution_count": 7,
   "id": "d4d7b827",
   "metadata": {},
   "outputs": [
    {
     "name": "stdout",
     "output_type": "stream",
     "text": [
      "Lista inicial: \n",
      "Lista con datos agregados: 1 2 3\n"
     ]
    }
   ],
   "source": [
    "list = []\n",
    "\n",
    "print(\"Lista inicial: \", end=\"\")\n",
    "print(*list)\n",
    "\n",
    "list.append(1)\n",
    "list.append(2)\n",
    "list.append(3)\n",
    "\n",
    "print(\"Lista con datos agregados: \", end=\"\")\n",
    "print(*list)"
   ]
  },
  {
   "cell_type": "markdown",
   "id": "a92e9b29",
   "metadata": {},
   "source": [
    "5.\tDada una lista con cuatro elementos, elimina el último elemento y muestra la lista resultante."
   ]
  },
  {
   "cell_type": "code",
   "execution_count": 8,
   "id": "ef11990e",
   "metadata": {},
   "outputs": [
    {
     "name": "stdout",
     "output_type": "stream",
     "text": [
      "Lista original: elemento 1 elemento 2 elemento 3 elemento 4\n",
      "Ultimo elemento: elemento 4\n",
      "Lista sin ultimo elemento: elemento 1 elemento 2 elemento 3\n"
     ]
    }
   ],
   "source": [
    "list = [\"elemento 1\", \"elemento 2\", \"elemento 3\", \"elemento 4\"]\n",
    "\n",
    "print(\"Lista original: \", end=\"\")\n",
    "print(*list)\n",
    "print(f\"Ultimo elemento: {list.pop()}\")\n",
    "print(\"Lista sin ultimo elemento: \", end=\"\")\n",
    "print(*list)"
   ]
  },
  {
   "cell_type": "markdown",
   "id": "e3160d28",
   "metadata": {},
   "source": [
    "6.\tToma la lista [1, 2, 3, 4, 5, 6, 7, 8, 9] y utiliza slicing para obtener una nueva lista que contenga solo los elementos en posiciones impares."
   ]
  },
  {
   "cell_type": "code",
   "execution_count": 9,
   "id": "3e3d27d8",
   "metadata": {},
   "outputs": [
    {
     "name": "stdout",
     "output_type": "stream",
     "text": [
      "Lista original: 1 2 3 4 5 6 7 8 9\n",
      "Impares: 1 3 5 7 9\n"
     ]
    }
   ],
   "source": [
    "list = [1, 2, 3, 4, 5, 6, 7, 8, 9]\n",
    "\n",
    "print(\"Lista original: \", end=\"\")\n",
    "print(*list)\n",
    "print(\"Impares: \", end=\"\")\n",
    "print(*list[0::2])"
   ]
  },
  {
   "cell_type": "markdown",
   "id": "ab42585f",
   "metadata": {},
   "source": [
    "7.\tDemuestra cómo copiar una lista en otra y verifica que son dos objetos diferentes."
   ]
  },
  {
   "cell_type": "code",
   "execution_count": 11,
   "id": "cba15310",
   "metadata": {},
   "outputs": [
    {
     "name": "stdout",
     "output_type": "stream",
     "text": [
      "Original: 1 2 3 4 5\n",
      "Copia:1 2 3 4 5\n",
      "original is copia? False\n",
      "original == copia? True\n",
      "Después de modificar copia:\n",
      "Original: 1 2 3 4 5\n",
      "Copia: 1 2 3 4 5 99\n"
     ]
    }
   ],
   "source": [
    "list1 = [1, 2, 3, 4, 5]\n",
    "\n",
    "list2 = list1.copy()\n",
    "\n",
    "print(\"Original: \", end=\"\")\n",
    "print(*list1)\n",
    "print(\"Copia:\", end=\"\")\n",
    "print(*list2)\n",
    "\n",
    "print(\"original is copia?\", list1 is list2)   \n",
    "print(\"original == copia?\", list1 == list2)   \n",
    "\n",
    "\n",
    "list2.append(99)\n",
    "print(\"Después de modificar copia:\")\n",
    "print(\"Original: \", end=\"\")\n",
    "print(*list1)\n",
    "print(\"Copia: \", end=\"\")\n",
    "print(*list2)\n"
   ]
  },
  {
   "cell_type": "markdown",
   "id": "4e486bee",
   "metadata": {},
   "source": [
    "8.\tUne dos listas [1, 2, 3] y [4, 5, 6] en una sola lista."
   ]
  },
  {
   "cell_type": "code",
   "execution_count": 13,
   "id": "c86983f7",
   "metadata": {},
   "outputs": [
    {
     "name": "stdout",
     "output_type": "stream",
     "text": [
      "Lista 1: 1 2 3\n",
      "Lista 2: 4 5 6\n",
      "Lista unida: 1 2 3 4 5 6\n"
     ]
    }
   ],
   "source": [
    "list1 = [1, 2, 3]\n",
    "list2 = [4, 5, 6]\n",
    "\n",
    "list3 = list1 + list2\n",
    "\n",
    "print(\"Lista 1: \", end=\"\")\n",
    "print(*list1)\n",
    "print(\"Lista 2: \", end=\"\")\n",
    "print(*list2)\n",
    "\n",
    "print(\"Lista unida: \", end=\"\")\n",
    "print(*list3)"
   ]
  },
  {
   "cell_type": "markdown",
   "id": "bbc0c7e6",
   "metadata": {},
   "source": [
    "9.\tCrea una lista que contenga tres listas, cada una con tres números enteros."
   ]
  },
  {
   "cell_type": "code",
   "execution_count": 5,
   "id": "87e0f15d",
   "metadata": {},
   "outputs": [
    {
     "name": "stdout",
     "output_type": "stream",
     "text": [
      "[1, 2, 3] [4, 5, 6] [7, 8, 9]\n"
     ]
    }
   ],
   "source": [
    "list = [\n",
    "    [1, 2, 3],\n",
    "    [4, 5, 6],\n",
    "    [7, 8, 9]\n",
    "]\n",
    "\n",
    "print(*list)"
   ]
  },
  {
   "cell_type": "markdown",
   "id": "0253d154",
   "metadata": {},
   "source": [
    "10.\tDada una lista con algunos elementos repetidos, escribe un programa que cuente cuántas veces aparece el número 5."
   ]
  },
  {
   "cell_type": "code",
   "execution_count": 6,
   "id": "3c1b5cda",
   "metadata": {},
   "outputs": [
    {
     "name": "stdout",
     "output_type": "stream",
     "text": [
      "Lista: 3 7 7 1 1 7 8 6 9 5 10 3 1 6 2 1 3 4 6 7 7 10 8 8 5\n",
      "Se encontraron #5 veces el numero '5'\n"
     ]
    }
   ],
   "source": [
    "import random\n",
    "list = []\n",
    "\n",
    "for i in range(25):\n",
    "    list.append(random.randint(1,10))\n",
    "\n",
    "count = 0\n",
    "\n",
    "for n in list:\n",
    "    if n == 5:\n",
    "        count += 1\n",
    "\n",
    "print(\"Lista: \", end=\"\")\n",
    "print(*list)\n",
    "print(f\"Se encontraron #{n} veces el numero '5'\")"
   ]
  },
  {
   "cell_type": "markdown",
   "id": "22454b62",
   "metadata": {},
   "source": [
    "11.\tUtiliza el método extend() para añadir los elementos de una lista [4, 5, 6] a otra lista [1, 2, 3]."
   ]
  },
  {
   "cell_type": "code",
   "execution_count": 9,
   "id": "575b9778",
   "metadata": {},
   "outputs": [
    {
     "name": "stdout",
     "output_type": "stream",
     "text": [
      "Lista 1: 1 2 3 4 5 6\n",
      "Lista 2: 4 5 6\n",
      "Lista extendida: 1 2 3 4 5 6\n"
     ]
    }
   ],
   "source": [
    "list1 = [1, 2, 3]\n",
    "list2 = [4, 5, 6]\n",
    "\n",
    "list1.extend(list2)\n",
    "\n",
    "print(\"Lista 1: \", end=\"\")\n",
    "print(*list1)\n",
    "print(\"Lista 2: \", end=\"\")\n",
    "print(*list2)\n",
    "print(\"Lista extendida: \", end=\"\")\n",
    "print(*list1)"
   ]
  },
  {
   "cell_type": "markdown",
   "id": "096e7493",
   "metadata": {},
   "source": [
    "12.\tBusca el índice del elemento “Python” en la lista [“Java”, “C”, “Python”, “JavaScript”]."
   ]
  },
  {
   "cell_type": "code",
   "execution_count": 12,
   "id": "734208e9",
   "metadata": {},
   "outputs": [
    {
     "name": "stdout",
     "output_type": "stream",
     "text": [
      "Lista de programas: Java C Python JavaScript\n",
      "El indice de 'Python' es: '2'\n"
     ]
    }
   ],
   "source": [
    "list = [\"Java\", \"C\", \"Python\", \"JavaScript\"]\n",
    "\n",
    "print(\"Lista de programas: \", end=\"\")\n",
    "print(*list)\n",
    "\n",
    "print(f\"El indice de 'Python' es: '{list.index(\"Python\")}'\")"
   ]
  },
  {
   "cell_type": "markdown",
   "id": "9dfa9e15",
   "metadata": {},
   "source": [
    "13.\tEscribe un programa que invierta el orden de los elementos en una lista."
   ]
  },
  {
   "cell_type": "code",
   "execution_count": 14,
   "id": "e9e9b6a1",
   "metadata": {},
   "outputs": [
    {
     "name": "stdout",
     "output_type": "stream",
     "text": [
      "Lista original: 1 2 3 4 5 6\n",
      "Lista invertida: 6 5 4 3 2 1\n"
     ]
    }
   ],
   "source": [
    "list = [1, 2, 3, 4, 5, 6]\n",
    "lista_invertida = list[::-1]\n",
    "\n",
    "print(\"Lista original: \", end=\"\")\n",
    "print(*list)\n",
    "print(\"Lista invertida: \", end=\"\")\n",
    "print(*lista_invertida)"
   ]
  },
  {
   "cell_type": "markdown",
   "id": "fea971b8",
   "metadata": {},
   "source": [
    "14.\tDada una lista de números desordenados, escribe un programa que los ordene de menor a mayor."
   ]
  },
  {
   "cell_type": "code",
   "execution_count": 15,
   "id": "7591ab34",
   "metadata": {},
   "outputs": [
    {
     "name": "stdout",
     "output_type": "stream",
     "text": [
      "Lista desordenada: 1 2 3 8 6 8 10 7 9 5 10 7 9 4 8 5 10 4 6 5 7 5 3 3 1\n",
      "Lista ordenada: 1 1 2 3 3 3 4 4 5 5 5 5 6 6 7 7 7 8 8 8 9 9 10 10 10\n"
     ]
    }
   ],
   "source": [
    "import random\n",
    "list = []\n",
    "\n",
    "for i in range(25):\n",
    "    list.append(random.randint(1,10))\n",
    "\n",
    "print(\"Lista desordenada: \", end=\"\")\n",
    "print(*list)\n",
    "list.sort()\n",
    "print(\"Lista ordenada: \", end=\"\")\n",
    "print(*list)"
   ]
  },
  {
   "cell_type": "markdown",
   "id": "2e6b258d",
   "metadata": {},
   "source": [
    "15.\tEscribe un programa que imprima todos los números primos menores de 1000. Un número primo no puede ser dividido de manera exacta por ningún otro número natural aparte de 1 y sí mismo. Deberás escribir este programa creando una lista de números primos. Para comenzar, la lista está vacía. Luego escribes dos bucles for anidados. El bucle for externo recorre todos los números del 2 al 999. El bucle for interno recorre la lista de números primos. Si el siguiente número en el bucle for externo no es divisible por ninguno de los números primos, entonces es primo y puede ser impreso como tal y añadido a la lista de primos. Para añadir un elemento, e, a una lista, lst, puedes escribir lst.append(e). Para finalizar, imprima el conteo de los números primos en la lista y calcule su promedio. El programa debe contener tres funciones, esPrimo, contarPrimos y promedioPrimos."
   ]
  },
  {
   "cell_type": "code",
   "execution_count": null,
   "id": "285504ef",
   "metadata": {},
   "outputs": [
    {
     "name": "stdout",
     "output_type": "stream",
     "text": [
      "2\n",
      "3\n",
      "5\n",
      "7\n",
      "11\n",
      "13\n",
      "17\n",
      "19\n",
      "23\n",
      "29\n",
      "31\n",
      "37\n",
      "41\n",
      "43\n",
      "47\n",
      "53\n",
      "59\n",
      "61\n",
      "67\n",
      "71\n",
      "73\n",
      "79\n",
      "83\n",
      "89\n",
      "97\n",
      "101\n",
      "103\n",
      "107\n",
      "109\n",
      "113\n",
      "127\n",
      "131\n",
      "137\n",
      "139\n",
      "149\n",
      "151\n",
      "157\n",
      "163\n",
      "167\n",
      "173\n",
      "179\n",
      "181\n",
      "191\n",
      "193\n",
      "197\n",
      "199\n",
      "211\n",
      "223\n",
      "227\n",
      "229\n",
      "233\n",
      "239\n",
      "241\n",
      "251\n",
      "257\n",
      "263\n",
      "269\n",
      "271\n",
      "277\n",
      "281\n",
      "283\n",
      "293\n",
      "307\n",
      "311\n",
      "313\n",
      "317\n",
      "331\n",
      "337\n",
      "347\n",
      "349\n",
      "353\n",
      "359\n",
      "367\n",
      "373\n",
      "379\n",
      "383\n",
      "389\n",
      "397\n",
      "401\n",
      "409\n",
      "419\n",
      "421\n",
      "431\n",
      "433\n",
      "439\n",
      "443\n",
      "449\n",
      "457\n",
      "461\n",
      "463\n",
      "467\n",
      "479\n",
      "487\n",
      "491\n",
      "499\n",
      "503\n",
      "509\n",
      "521\n",
      "523\n",
      "541\n",
      "547\n",
      "557\n",
      "563\n",
      "569\n",
      "571\n",
      "577\n",
      "587\n",
      "593\n",
      "599\n",
      "601\n",
      "607\n",
      "613\n",
      "617\n",
      "619\n",
      "631\n",
      "641\n",
      "643\n",
      "647\n",
      "653\n",
      "659\n",
      "661\n",
      "673\n",
      "677\n",
      "683\n",
      "691\n",
      "701\n",
      "709\n",
      "719\n",
      "727\n",
      "733\n",
      "739\n",
      "743\n",
      "751\n",
      "757\n",
      "761\n",
      "769\n",
      "773\n",
      "787\n",
      "797\n",
      "809\n",
      "811\n",
      "821\n",
      "823\n",
      "827\n",
      "829\n",
      "839\n",
      "853\n",
      "857\n",
      "859\n",
      "863\n",
      "877\n",
      "881\n",
      "883\n",
      "887\n",
      "907\n",
      "911\n",
      "919\n",
      "929\n",
      "937\n",
      "941\n",
      "947\n",
      "953\n",
      "967\n",
      "971\n",
      "977\n",
      "983\n",
      "991\n",
      "997\n",
      "\n",
      "Cantidad de primos encontrados: 168\n",
      "Promedio de los primos: 453.13690476190476\n"
     ]
    }
   ],
   "source": [
    "def es_primo(n, lista_primos):\n",
    "    for primo in lista_primos:\n",
    "        if n % primo == 0:\n",
    "            return False\n",
    "    return True\n",
    "\n",
    "def contar_primos(lista_primos):\n",
    "    return len(lista_primos)\n",
    "\n",
    "def promedio_primos(lista_primos):\n",
    "    if len(lista_primos) == 0:\n",
    "        return 0\n",
    "    return sum(lista_primos) / len(lista_primos)\n",
    "\n",
    "\n",
    "primos = []\n",
    "\n",
    "\n",
    "for numero in range(2, 1000):\n",
    "    if es_primo(numero, primos):\n",
    "        primos.append(numero)\n",
    "        print(numero)\n",
    "\n",
    "\n",
    "print(\"\\nCantidad de primos encontrados:\", contar_primos(primos))\n",
    "print(\"Promedio de los primos:\", promedio_primos(primos))"
   ]
  },
  {
   "cell_type": "markdown",
   "id": "9ee5d106",
   "metadata": {},
   "source": [
    "## 2. Tuplas"
   ]
  },
  {
   "cell_type": "markdown",
   "id": "7b394578",
   "metadata": {},
   "source": [
    "1.\tEscribe un programa para crear una tupla con diferentes tipos de datos (entero, flotante, string)."
   ]
  },
  {
   "cell_type": "code",
   "execution_count": 19,
   "id": "50c6a077",
   "metadata": {},
   "outputs": [
    {
     "name": "stdout",
     "output_type": "stream",
     "text": [
      "El elemento 1 es de tipo <class 'int'>\n",
      "El elemento 1.1 es de tipo <class 'float'>\n",
      "El elemento hola es de tipo <class 'str'>\n"
     ]
    }
   ],
   "source": [
    "tupla = (1, 1.1, \"hola\")\n",
    "\n",
    "for e in tupla:\n",
    "    print(f\"El elemento {e} es de tipo {type(e)}\")"
   ]
  },
  {
   "cell_type": "markdown",
   "id": "7dbf16e2",
   "metadata": {},
   "source": [
    "2.\tDemuestra cómo crear una tupla con un solo elemento."
   ]
  },
  {
   "cell_type": "code",
   "execution_count": 20,
   "id": "a84c4c97",
   "metadata": {},
   "outputs": [
    {
     "name": "stdout",
     "output_type": "stream",
     "text": [
      "hola mundo\n"
     ]
    }
   ],
   "source": [
    "tupla = (\"hola mundo\")\n",
    "\n",
    "print(tupla)"
   ]
  },
  {
   "cell_type": "markdown",
   "id": "bdf0f135",
   "metadata": {},
   "source": [
    "3.\tDada la tupla tup = (“Python”, “Java”, “C++”) accede e imprime el segundo elemento."
   ]
  },
  {
   "cell_type": "code",
   "execution_count": 25,
   "id": "ab459e85",
   "metadata": {},
   "outputs": [
    {
     "name": "stdout",
     "output_type": "stream",
     "text": [
      "Tupla: Python Java C++\n",
      "Segundo elemento: Java\n"
     ]
    }
   ],
   "source": [
    "tup = (\"Python\", \"Java\", \"C++\")\n",
    "\n",
    "print(\"Tupla: \", end=\"\")\n",
    "print(*tup)\n",
    "print(f\"Segundo elemento: {tup[1]}\")"
   ]
  },
  {
   "cell_type": "markdown",
   "id": "7e46bc0f",
   "metadata": {},
   "source": [
    "4.\tUtiliza slicing para obtener los últimos dos elementos de una tupla."
   ]
  },
  {
   "cell_type": "code",
   "execution_count": 26,
   "id": "7ddfeef4",
   "metadata": {},
   "outputs": [
    {
     "name": "stdout",
     "output_type": "stream",
     "text": [
      "Tupla de comida: Arroz Carne Frijoles Papas Huevo Salchicha\n",
      "Últimos 2 elementos: Huevo Salchicha\n"
     ]
    }
   ],
   "source": [
    "comida = (\"Arroz\", \"Carne\", \"Frijoles\", \"Papas\", \"Huevo\", \"Salchicha\")\n",
    "últimos2 = comida[-2:]\n",
    "\n",
    "print(\"Tupla de comida: \", end=\"\")\n",
    "print(*comida)\n",
    "print(\"Últimos 2 elementos: \", end=\"\")\n",
    "print(*últimos2)"
   ]
  },
  {
   "cell_type": "markdown",
   "id": "1824c9f6",
   "metadata": {},
   "source": [
    "5.\tUne dos tuplas dadas en una sola tupla."
   ]
  },
  {
   "cell_type": "code",
   "execution_count": 28,
   "id": "d59bcb24",
   "metadata": {},
   "outputs": [
    {
     "name": "stdout",
     "output_type": "stream",
     "text": [
      "Tupla 1: 1 2 3 4 5\n",
      "Tupla 2: 6 7 8 9 10\n",
      "Tupla unida: 1 2 3 4 5 6 7 8 9 10\n"
     ]
    }
   ],
   "source": [
    "tupla1 = (1, 2, 3, 4, 5)\n",
    "tupla2 = (6, 7, 8, 9, 10)\n",
    "tupla3 = tupla1 + tupla2\n",
    "\n",
    "print(\"Tupla 1: \", end=\"\")\n",
    "print(*tupla1)\n",
    "print(\"Tupla 2: \", end=\"\")\n",
    "print(*tupla2)\n",
    "print(\"Tupla unida: \", end=\"\")\n",
    "print(*tupla3)"
   ]
  },
  {
   "cell_type": "markdown",
   "id": "5c0cd20e",
   "metadata": {},
   "source": [
    "6.\tCrea una tupla y demuestra cómo repetirla para formar una tupla más grande."
   ]
  },
  {
   "cell_type": "code",
   "execution_count": 29,
   "id": "3e8763c4",
   "metadata": {},
   "outputs": [
    {
     "name": "stdout",
     "output_type": "stream",
     "text": [
      "Tupla original: 1 2 3\n",
      "Tupla grande: 1 2 3 1 2 3 1 2 3\n"
     ]
    }
   ],
   "source": [
    "tupla = (1, 2, 3)\n",
    "\n",
    "tupla_grande = tupla * 3\n",
    "\n",
    "print(\"Tupla original: \", end=\"\")\n",
    "print(*tupla)\n",
    "print(\"Tupla grande: \", end=\"\")\n",
    "print(*tupla_grande)"
   ]
  },
  {
   "cell_type": "markdown",
   "id": "6fbe8e20",
   "metadata": {},
   "source": [
    "7.\tVerifica si un elemento específico (por ejemplo, “Python”) existe en una tupla dada."
   ]
  },
  {
   "cell_type": "code",
   "execution_count": 31,
   "id": "bb57b56e",
   "metadata": {},
   "outputs": [
    {
     "name": "stdout",
     "output_type": "stream",
     "text": [
      "Tupla: Python Java C++\n",
      "Python se encuentra en la tupla?: True\n"
     ]
    }
   ],
   "source": [
    "tup = (\"Python\", \"Java\", \"C++\")\n",
    "\n",
    "print(\"Tupla: \", end=\"\")\n",
    "print(*tup)\n",
    "\n",
    "print(f\"Python se encuentra en la tupla?: {\"Python\" in tup}\")"
   ]
  },
  {
   "cell_type": "markdown",
   "id": "181fc08a",
   "metadata": {},
   "source": [
    "8.\tCuenta cuántas veces un elemento específico aparece en una tupla."
   ]
  },
  {
   "cell_type": "code",
   "execution_count": null,
   "id": "2b295148",
   "metadata": {},
   "outputs": [
    {
     "name": "stdout",
     "output_type": "stream",
     "text": [
      "tupla: 1 2 3 2 4 2 5\n",
      "El número '2' aparece 3 veces en la tupla.\n"
     ]
    }
   ],
   "source": [
    "tupla = (1, 2, 3, 2, 4, 2, 5)\n",
    "\n",
    "cantidad = tupla.count(2)\n",
    "\n",
    "print(\"tupla: \", end=\"\")\n",
    "print(*tupla)\n",
    "print(f\"El número '2' aparece {cantidad} veces en la tupla.\")"
   ]
  },
  {
   "cell_type": "markdown",
   "id": "e74c2fbb",
   "metadata": {},
   "source": [
    "9.\tEncuentra el índice de un elemento dado en una tupla."
   ]
  },
  {
   "cell_type": "code",
   "execution_count": 35,
   "id": "8cffc13f",
   "metadata": {},
   "outputs": [
    {
     "name": "stdout",
     "output_type": "stream",
     "text": [
      "tupla: 10 20 30 40 50\n",
      "El elemento '30' se encuentra en el índice 2.\n"
     ]
    }
   ],
   "source": [
    "tupla = (10, 20, 30, 40, 50)\n",
    "\n",
    "indice = tupla.index(30)\n",
    "\n",
    "print(\"tupla: \", end=\"\")\n",
    "print(*tupla)\n",
    "print(f\"El elemento '30' se encuentra en el índice {indice}.\")"
   ]
  },
  {
   "cell_type": "markdown",
   "id": "5d358540",
   "metadata": {},
   "source": [
    "10.\tConvierte una lista dada en una tupla."
   ]
  },
  {
   "cell_type": "code",
   "execution_count": 37,
   "id": "f726af94",
   "metadata": {},
   "outputs": [
    {
     "name": "stdout",
     "output_type": "stream",
     "text": [
      "La lista original: 1 2 3 4 5\n",
      "La tupla convertida: 1 2 3 4 5\n"
     ]
    }
   ],
   "source": [
    "list = [1, 2, 3, 4, 5]\n",
    "\n",
    "tupla = tuple(list)\n",
    "\n",
    "print(\"La lista original: \", end=\"\")\n",
    "print(*list)\n",
    "print(\"La tupla convertida: \", end=\"\")\n",
    "print(*tupla)"
   ]
  },
  {
   "cell_type": "markdown",
   "id": "b9874242",
   "metadata": {},
   "source": [
    "11.\tDada una tupla de tres elementos, utiliza el desempaquetado de tuplas para asignar cada elemento a una variable distinta."
   ]
  },
  {
   "cell_type": "code",
   "execution_count": 38,
   "id": "f4d4df8a",
   "metadata": {},
   "outputs": [
    {
     "name": "stdout",
     "output_type": "stream",
     "text": [
      "Nombre: Sebastián\n",
      "Edad: 22\n",
      "País: México\n"
     ]
    }
   ],
   "source": [
    "tupla = (\"Sebastián\", 22, \"México\")\n",
    "\n",
    "nombre, edad, país = tupla\n",
    "\n",
    "print(\"Nombre:\", nombre)\n",
    "print(\"Edad:\", edad)\n",
    "print(\"País:\", país)"
   ]
  },
  {
   "cell_type": "markdown",
   "id": "f1b18dd5",
   "metadata": {},
   "source": [
    "12.\tIntenta cambiar un elemento en una tupla para demostrar su inmutabilidad."
   ]
  },
  {
   "cell_type": "code",
   "execution_count": 40,
   "id": "77e16c99",
   "metadata": {},
   "outputs": [
    {
     "name": "stdout",
     "output_type": "stream",
     "text": [
      "Error: 'tuple' object does not support item assignment\n"
     ]
    }
   ],
   "source": [
    "tupla = (10, 20, 30)\n",
    "\n",
    "# Intentar cambiar un elemento\n",
    "try:\n",
    "    tupla[1] = 99\n",
    "except TypeError as e:\n",
    "    print(\"Error:\", e)"
   ]
  },
  {
   "cell_type": "markdown",
   "id": "b9bde7f9",
   "metadata": {},
   "source": [
    "13.\tEncuentra el valor máximo y mínimo en una tupla de números."
   ]
  },
  {
   "cell_type": "code",
   "execution_count": null,
   "id": "1a4bed9d",
   "metadata": {},
   "outputs": [
    {
     "name": "stdout",
     "output_type": "stream",
     "text": [
      "Tupla:98 33 44 19 9 93 98 46 21 68\n",
      "Valor máximo: 98\n",
      "Valor mínimo: 9\n"
     ]
    }
   ],
   "source": [
    "import random \n",
    "\n",
    "list = [] \n",
    "for i in range(10): \n",
    "    list.append(random.randint(1, 100)) \n",
    "\n",
    "nums = tuple(list) \n",
    "\n",
    "ma = max(nums) \n",
    "mi = min(nums) \n",
    "\n",
    "print(\"Tupla:\", end=\"\") \n",
    "print(*nums) \n",
    "print(\"Valor máximo:\", ma) \n",
    "print(\"Valor mínimo:\", mi)"
   ]
  },
  {
   "cell_type": "markdown",
   "id": "7419d038",
   "metadata": {},
   "source": [
    "14.\tEscribe un programa que convierta una cadena dada en una tupla de caracteres."
   ]
  },
  {
   "cell_type": "code",
   "execution_count": 3,
   "id": "2fde1ce9",
   "metadata": {},
   "outputs": [
    {
     "name": "stdout",
     "output_type": "stream",
     "text": [
      "Cadena original:  Hola mundo\n",
      "Tupla de caracteres: H o l a   m u n d o\n"
     ]
    }
   ],
   "source": [
    "text = \"Hola mundo\"\n",
    "tupla = tuple(text)\n",
    "\n",
    "print(\"Cadena original: \", text)\n",
    "print(\"Tupla de caracteres: \", end=\"\")\n",
    "print(*tupla)"
   ]
  },
  {
   "cell_type": "markdown",
   "id": "9c386259",
   "metadata": {},
   "source": [
    "15.\tDada una tupla de números, escribe un programa que devuelva una nueva tupla ordenada de menor a mayor."
   ]
  },
  {
   "cell_type": "code",
   "execution_count": 3,
   "id": "0828c21a",
   "metadata": {},
   "outputs": [
    {
     "name": "stdout",
     "output_type": "stream",
     "text": [
      "Tupla original: 74 46 63 99 96 54 69 56 29 10\n",
      "Tupla ordenada de menor a mayor: 10 29 46 54 56 63 69 74 96 99\n"
     ]
    }
   ],
   "source": [
    "import random\n",
    "\n",
    "lista = []\n",
    "\n",
    "for i in range(10):\n",
    "    lista.append(random.randint(1, 100))\n",
    "\n",
    "tupla = tuple(lista)\n",
    "\n",
    "tupla_ordenada = tuple(sorted(tupla))\n",
    "\n",
    "print(\"Tupla original: \", end=\"\")\n",
    "print(*tupla)\n",
    "print(\"Tupla ordenada de menor a mayor: \", end=\"\")\n",
    "print(*tupla_ordenada)"
   ]
  },
  {
   "cell_type": "markdown",
   "id": "55945cc9",
   "metadata": {},
   "source": [
    "## 3. Diccionarios"
   ]
  },
  {
   "cell_type": "markdown",
   "id": "51636511",
   "metadata": {},
   "source": [
    "1.\tEscribe un programa que cree un diccionario con tres pares clave-valor e imprímelo."
   ]
  },
  {
   "cell_type": "code",
   "execution_count": 6,
   "id": "cc2884ba",
   "metadata": {},
   "outputs": [
    {
     "name": "stdout",
     "output_type": "stream",
     "text": [
      "{'Nombre': 'Sebastián', 'Edad': 22, 'País': 'Mexico'}\n"
     ]
    }
   ],
   "source": [
    "diccionario = { \"Nombre\": \"Sebastián\", \"Edad\": 22, \"País\": \"Mexico\"}\n",
    "\n",
    "print(diccionario)"
   ]
  },
  {
   "cell_type": "markdown",
   "id": "cfa3a1cb",
   "metadata": {},
   "source": [
    "2.\tDado un diccionario, accede e imprime el valor asociado a una clave específica."
   ]
  },
  {
   "cell_type": "code",
   "execution_count": 2,
   "id": "b13580c0",
   "metadata": {},
   "outputs": [
    {
     "name": "stdout",
     "output_type": "stream",
     "text": [
      "Nombre: Sebastián\n"
     ]
    }
   ],
   "source": [
    "diccionario = { \"Nombre\": \"Sebastián\", \"Edad\": 22, \"País\": \"Mexico\"}\n",
    "\n",
    "print(f\"Nombre: {diccionario[\"Nombre\"]}\")"
   ]
  },
  {
   "cell_type": "markdown",
   "id": "25b7733e",
   "metadata": {},
   "source": [
    "3.\tAñade un nuevo par clave-valor a un diccionario existente y muestra el diccionario actualizado."
   ]
  },
  {
   "cell_type": "code",
   "execution_count": 4,
   "id": "438bceac",
   "metadata": {},
   "outputs": [
    {
     "name": "stdout",
     "output_type": "stream",
     "text": [
      "Diccionario original: {'Nombre': 'Sebastián', 'Edad': 22, 'País': 'Mexico'}\n",
      "Diccionario con nuevo valor: {'Nombre': 'Sebastián', 'Edad': 22, 'País': 'Mexico', 'Profesion': 'Ingeniero'}\n"
     ]
    }
   ],
   "source": [
    "diccionario = { \"Nombre\": \"Sebastián\", \"Edad\": 22, \"País\": \"Mexico\"}\n",
    "\n",
    "print(f\"Diccionario original: {diccionario}\")\n",
    "\n",
    "diccionario[\"Profesion\"] = \"Ingeniero\"\n",
    "\n",
    "print(f\"Diccionario con nuevo valor: {diccionario}\")"
   ]
  },
  {
   "cell_type": "markdown",
   "id": "460a599e",
   "metadata": {},
   "source": [
    "4.\tElimina un par clave-valor específico de un diccionario usando su clave."
   ]
  },
  {
   "cell_type": "code",
   "execution_count": 5,
   "id": "0d51c80a",
   "metadata": {},
   "outputs": [
    {
     "name": "stdout",
     "output_type": "stream",
     "text": [
      "Diccionario original: {'Nombre': 'Sebastián', 'Edad': 22, 'País': 'Mexico'}\n",
      "Diccionario sin nombre: {'Edad': 22, 'País': 'Mexico'}\n"
     ]
    }
   ],
   "source": [
    "diccionario = { \"Nombre\": \"Sebastián\", \"Edad\": 22, \"País\": \"Mexico\"}\n",
    "\n",
    "print(f\"Diccionario original: {diccionario}\")\n",
    "\n",
    "del diccionario[\"Nombre\"]\n",
    "\n",
    "print(f\"Diccionario sin nombre: {diccionario}\")"
   ]
  },
  {
   "cell_type": "markdown",
   "id": "6fc5d684",
   "metadata": {},
   "source": [
    "5.\tDado un diccionario, imprime todas sus claves y luego todos sus valores."
   ]
  },
  {
   "cell_type": "code",
   "execution_count": 6,
   "id": "79f2710f",
   "metadata": {},
   "outputs": [
    {
     "name": "stdout",
     "output_type": "stream",
     "text": [
      "Claves del diccionario:\n",
      "Nombre\n",
      "Edad\n",
      "País\n",
      "\n",
      "Valores del diccionario:\n",
      "Sebastián\n",
      "22\n",
      "Mexico\n"
     ]
    }
   ],
   "source": [
    "diccionario = { \"Nombre\": \"Sebastián\", \"Edad\": 22, \"País\": \"Mexico\"}\n",
    "\n",
    "print(\"Claves del diccionario:\")\n",
    "for clave in diccionario.keys():\n",
    "    print(clave)\n",
    "\n",
    "print(\"\\nValores del diccionario:\")\n",
    "for valor in diccionario.values():\n",
    "    print(valor)\n"
   ]
  },
  {
   "cell_type": "markdown",
   "id": "26e47136",
   "metadata": {},
   "source": [
    "6.\tVerifica si una clave específica existe en un diccionario."
   ]
  },
  {
   "cell_type": "code",
   "execution_count": 8,
   "id": "6910a5d4",
   "metadata": {},
   "outputs": [
    {
     "name": "stdout",
     "output_type": "stream",
     "text": [
      "La clave 'Edad' SÍ existe en el diccionario.\n",
      "La clave 'Profesion' NO existe en el diccionario.\n"
     ]
    }
   ],
   "source": [
    "diccionario = { \"Nombre\": \"Sebastián\", \"Edad\": 22, \"País\": \"Mexico\"}\n",
    "\n",
    "\n",
    "if \"Edad\" in diccionario:\n",
    "    print(f\"La clave 'Edad' SÍ existe en el diccionario.\")\n",
    "else:\n",
    "    print(f\"La clave 'Edad' NO existe en el diccionario.\")\n",
    "\n",
    "if \"Profesion\" in diccionario:\n",
    "    print(f\"La clave 'Profesion' SÍ existe en el diccionario.\")\n",
    "else:\n",
    "    print(f\"La clave 'Profesion' NO existe en el diccionario.\")\n"
   ]
  },
  {
   "cell_type": "markdown",
   "id": "86951048",
   "metadata": {},
   "source": [
    "7.\tCrea un diccionario que contenga otro diccionario (diccionario anidado) y accede a un valor del diccionario interno."
   ]
  },
  {
   "cell_type": "code",
   "execution_count": null,
   "id": "1124b1ad",
   "metadata": {},
   "outputs": [
    {
     "name": "stdout",
     "output_type": "stream",
     "text": [
      "Nombre del alumno1: Luis\n",
      "Carrera del alumno2: Medicina\n"
     ]
    }
   ],
   "source": [
    "diccionario = {\n",
    "    \"alumno1\": {\n",
    "        \"nombre\": \"Luis\",\n",
    "        \"edad\": 20,\n",
    "        \"carrera\": \"Ingeniería\"\n",
    "    },\n",
    "    \"alumno2\": {\n",
    "        \"nombre\": \"María\",\n",
    "        \"edad\": 22,\n",
    "        \"carrera\": \"Medicina\"\n",
    "    }\n",
    "}\n",
    "\n",
    "print(\"Nombre del alumno1:\", diccionario[\"alumno1\"][\"nombre\"])\n",
    "print(\"Carrera del alumno2:\", diccionario[\"alumno2\"][\"carrera\"])"
   ]
  },
  {
   "cell_type": "markdown",
   "id": "02da873a",
   "metadata": {},
   "source": [
    "8.\tEscribe un programa que itere sobre las claves y valores de un diccionario e imprima cada par."
   ]
  },
  {
   "cell_type": "code",
   "execution_count": 13,
   "id": "5ec35fba",
   "metadata": {},
   "outputs": [
    {
     "name": "stdout",
     "output_type": "stream",
     "text": [
      "Clave: Nombre\tValor: Sebastián\n",
      "Clave: Edad\tValor: 22\n",
      "Clave: País\tValor: Mexico\n"
     ]
    }
   ],
   "source": [
    "diccionario = { \"Nombre\": \"Sebastián\", \"Edad\": 22, \"País\": \"Mexico\"}\n",
    "\n",
    "for clave, valor in diccionario.items():\n",
    "    print(f\"Clave: {clave}\\tValor: {valor}\")"
   ]
  },
  {
   "cell_type": "markdown",
   "id": "bd68b1cb",
   "metadata": {},
   "source": [
    "9.\tEncuentra y muestra la cantidad de pares clave-valor en un diccionario."
   ]
  },
  {
   "cell_type": "code",
   "execution_count": 14,
   "id": "abf09ebc",
   "metadata": {},
   "outputs": [
    {
     "name": "stdout",
     "output_type": "stream",
     "text": [
      "Diccionario: {'Nombre': 'Sebastián', 'Edad': 22, 'País': 'Mexico'}\n",
      "La cantidad de pares clave-valor es: 3\n"
     ]
    }
   ],
   "source": [
    "diccionario = { \"Nombre\": \"Sebastián\", \"Edad\": 22, \"País\": \"Mexico\"}\n",
    "\n",
    "cantidad = len(diccionario)\n",
    "\n",
    "print(f\"Diccionario: {diccionario}\")\n",
    "print(f\"La cantidad de pares clave-valor es: {cantidad}\")\n"
   ]
  },
  {
   "cell_type": "markdown",
   "id": "521607c3",
   "metadata": {},
   "source": [
    "10.\tCrea una copia de un diccionario existente y demuestra que son dos objetos distintos."
   ]
  },
  {
   "cell_type": "code",
   "execution_count": 15,
   "id": "24971423",
   "metadata": {},
   "outputs": [
    {
     "name": "stdout",
     "output_type": "stream",
     "text": [
      "Diccionario original: {'Nombre': 'Sebastián', 'Edad': 22, 'País': 'Mexico'}\n",
      "Copia del diccionario: {'Nombre': 'Sebastián', 'Edad': 22, 'País': 'Mexico'}\n",
      "\n",
      "¿Apuntan al mismo objeto en memoria? False\n"
     ]
    }
   ],
   "source": [
    "diccionario = { \"Nombre\": \"Sebastián\", \"Edad\": 22, \"País\": \"Mexico\"}\n",
    "\n",
    "copia_diccionario = diccionario.copy()\n",
    "\n",
    "print(\"Diccionario original:\", diccionario)\n",
    "print(\"Copia del diccionario:\", copia_diccionario)\n",
    "\n",
    "print(\"\\n¿Apuntan al mismo objeto en memoria?\", diccionario is copia_diccionario)\n"
   ]
  },
  {
   "cell_type": "markdown",
   "id": "74a8e14b",
   "metadata": {},
   "source": [
    "11.\tUsa el método update para añadir nuevos pares clave-valor a un diccionario desde otro diccionario."
   ]
  },
  {
   "cell_type": "code",
   "execution_count": 17,
   "id": "475c05d1",
   "metadata": {},
   "outputs": [
    {
     "name": "stdout",
     "output_type": "stream",
     "text": [
      "Diccionario original: {'nombre': 'Ana', 'edad': 25}\n",
      "Diccionario a añadir: {'ciudad': 'Madrid', 'profesion': 'Ingeniera'}\n",
      "Diccionario después de update: {'nombre': 'Ana', 'edad': 25, 'ciudad': 'Madrid', 'profesion': 'Ingeniera'}\n"
     ]
    }
   ],
   "source": [
    "diccionario1 = {\"nombre\": \"Ana\", \"edad\": 25}\n",
    "diccionario2 = {\"ciudad\": \"Madrid\", \"profesion\": \"Ingeniera\"}\n",
    "\n",
    "print(\"Diccionario original:\", diccionario1)\n",
    "print(\"Diccionario a añadir:\", diccionario2)\n",
    "\n",
    "diccionario1.update(diccionario2)\n",
    "\n",
    "print(\"Diccionario después de update:\", diccionario1)"
   ]
  },
  {
   "cell_type": "markdown",
   "id": "b0d05d23",
   "metadata": {},
   "source": [
    "12.\tUtiliza dos listas, una de claves y otra de valores, para crear un diccionario."
   ]
  },
  {
   "cell_type": "code",
   "execution_count": 21,
   "id": "7885749d",
   "metadata": {},
   "outputs": [
    {
     "name": "stdout",
     "output_type": "stream",
     "text": [
      "Diccionario: {'nombre': 'Juan', 'edad': 25, 'ciudad': 'México'}\n"
     ]
    }
   ],
   "source": [
    "claves = [\"nombre\", \"edad\", \"ciudad\"]\n",
    "valores = [\"Juan\", 25, \"México\"]\n",
    "\n",
    "diccionario = dict(zip(claves, valores))\n",
    "print(\"Diccionario:\", diccionario)"
   ]
  },
  {
   "cell_type": "markdown",
   "id": "9adce8f2",
   "metadata": {},
   "source": [
    "13.\tBorra todos los elementos de un diccionario, dejándolo vacío."
   ]
  },
  {
   "cell_type": "code",
   "execution_count": 19,
   "id": "1bee21df",
   "metadata": {},
   "outputs": [
    {
     "name": "stdout",
     "output_type": "stream",
     "text": [
      "{}\n"
     ]
    }
   ],
   "source": [
    "diccionario = { \"Nombre\": \"Sebastián\", \"Edad\": 22, \"País\": \"Mexico\"}\n",
    "\n",
    "diccionario.clear()\n",
    "\n",
    "print(diccionario)"
   ]
  },
  {
   "cell_type": "markdown",
   "id": "66644284",
   "metadata": {},
   "source": [
    "14.\tDemuestra cómo usar el método get para acceder a un valor de un diccionario sin provocar un error si la clave no existe."
   ]
  },
  {
   "cell_type": "code",
   "execution_count": 20,
   "id": "d8f3619b",
   "metadata": {},
   "outputs": [
    {
     "name": "stdout",
     "output_type": "stream",
     "text": [
      "Nombre: Ana\n",
      "Teléfono: No disponible\n"
     ]
    }
   ],
   "source": [
    "persona = {\"nombre\": \"Ana\", \"edad\": 30}\n",
    "\n",
    "print(\"Nombre:\", persona.get(\"nombre\"))\n",
    "\n",
    "print(\"Teléfono:\", persona.get(\"teléfono\", \"No disponible\"))"
   ]
  },
  {
   "cell_type": "markdown",
   "id": "e3a60be1",
   "metadata": {},
   "source": [
    "15.\tDadas dos listas de igual longitud, una de claves y otra de valores, combínalas para formar un diccionario."
   ]
  },
  {
   "cell_type": "code",
   "execution_count": 22,
   "id": "7d43d91b",
   "metadata": {},
   "outputs": [
    {
     "name": "stdout",
     "output_type": "stream",
     "text": [
      "Diccionario: {'a': 1, 'b': 2, 'c': 3}\n"
     ]
    }
   ],
   "source": [
    "claves = [\"a\", \"b\", \"c\"]\n",
    "valores = [1, 2, 3]\n",
    "\n",
    "diccionario = dict(zip(claves, valores))\n",
    "print(\"Diccionario:\", diccionario)"
   ]
  },
  {
   "cell_type": "markdown",
   "id": "c5024c40",
   "metadata": {},
   "source": [
    "## 4. Conjuntos"
   ]
  },
  {
   "cell_type": "markdown",
   "id": "12ea5e53",
   "metadata": {},
   "source": [
    "1.\tEscribe un programa para crear un conjunto con al menos 5 elementos y luego imprímelo."
   ]
  },
  {
   "cell_type": "code",
   "execution_count": 24,
   "id": "2d038c53",
   "metadata": {},
   "outputs": [
    {
     "name": "stdout",
     "output_type": "stream",
     "text": [
      "frutas: {'sandía', 'manzana', 'naranja', 'uva', 'plátano'}\n"
     ]
    }
   ],
   "source": [
    "frutas = {\"manzana\", \"naranja\", \"plátano\", \"uva\", \"sandía\"}\n",
    "print(\"frutas:\", frutas)"
   ]
  },
  {
   "cell_type": "markdown",
   "id": "98eac6e6",
   "metadata": {},
   "source": [
    "2.\tDemuestra cómo añadir un elemento a un conjunto existente."
   ]
  },
  {
   "cell_type": "code",
   "execution_count": 25,
   "id": "084daa5d",
   "metadata": {},
   "outputs": [
    {
     "name": "stdout",
     "output_type": "stream",
     "text": [
      "Conjunto original: {'verde', 'azul', 'rojo'}\n",
      "Después de add(): {'amarillo', 'verde', 'azul', 'rojo'}\n"
     ]
    }
   ],
   "source": [
    "colores = {\"rojo\", \"azul\", \"verde\"}\n",
    "print(\"Conjunto original:\", colores)\n",
    "\n",
    "colores.add(\"amarillo\")\n",
    "print(\"Después de add():\", colores)"
   ]
  },
  {
   "cell_type": "markdown",
   "id": "8102f2c5",
   "metadata": {},
   "source": [
    "3.\tEscribe un programa que elimine un elemento específico de un conjunto usando el método remove(). Asegúrate de manejar el caso en que el elemento no exista."
   ]
  },
  {
   "cell_type": "code",
   "execution_count": 28,
   "id": "47f5580e",
   "metadata": {},
   "outputs": [
    {
     "name": "stdout",
     "output_type": "stream",
     "text": [
      "Conjunto original: {1, 2, 3, 4, 5}\n",
      "Después de remove(3): {1, 2, 4, 5}\n",
      "El elemento 10 no existe\n"
     ]
    }
   ],
   "source": [
    "números = {1, 2, 3, 4, 5}\n",
    "print(\"Conjunto original:\", números)\n",
    "\n",
    "try:\n",
    "    números.remove(3)\n",
    "    print(\"Después de remove(3):\", números)\n",
    "\n",
    "    números.remove(10)\n",
    "\n",
    "except KeyError:\n",
    "    print(\"El elemento 10 no existe\")"
   ]
  },
  {
   "cell_type": "markdown",
   "id": "5dfef936",
   "metadata": {},
   "source": [
    "4.\tDados dos conjuntos, encuentra su unión y muestra el resultado."
   ]
  },
  {
   "cell_type": "code",
   "execution_count": 31,
   "id": "74c80c6a",
   "metadata": {},
   "outputs": [
    {
     "name": "stdout",
     "output_type": "stream",
     "text": [
      "Conjunto A: {1, 2, 3, 4}\n",
      "Conjunto B: {3, 4, 5, 6}\n",
      "Unión: {1, 2, 3, 4, 5, 6}\n"
     ]
    }
   ],
   "source": [
    "conjunto_a = {1, 2, 3, 4}\n",
    "conjunto_b = {3, 4, 5, 6}\n",
    "\n",
    "union = conjunto_a.union(conjunto_b)\n",
    "\n",
    "print(\"Conjunto A:\", conjunto_a)\n",
    "print(\"Conjunto B:\", conjunto_b)\n",
    "print(\"Unión:\", union)"
   ]
  },
  {
   "cell_type": "markdown",
   "id": "bbe1b7be",
   "metadata": {},
   "source": [
    "5.\tEncuentra la intersección de dos conjuntos y muestra el conjunto resultante."
   ]
  },
  {
   "cell_type": "code",
   "execution_count": 32,
   "id": "20c525f9",
   "metadata": {},
   "outputs": [
    {
     "name": "stdout",
     "output_type": "stream",
     "text": [
      "Conjunto X: {1, 2, 3, 4}\n",
      "Conjunto Y: {3, 4, 5, 6}\n",
      "Intersección: {3, 4}\n"
     ]
    }
   ],
   "source": [
    "conjunto_x = {1, 2, 3, 4}\n",
    "conjunto_y = {3, 4, 5, 6}\n",
    "\n",
    "intersección = conjunto_x.intersection(conjunto_y)\n",
    "\n",
    "print(\"Conjunto X:\", conjunto_x)\n",
    "print(\"Conjunto Y:\", conjunto_y)\n",
    "print(\"Intersección:\", intersección)"
   ]
  },
  {
   "cell_type": "markdown",
   "id": "f894ec46",
   "metadata": {},
   "source": [
    "6.\tDados dos conjuntos, calcula la diferencia entre ellos y muestra el conjunto resultante."
   ]
  },
  {
   "cell_type": "code",
   "execution_count": 33,
   "id": "7cee2f81",
   "metadata": {},
   "outputs": [
    {
     "name": "stdout",
     "output_type": "stream",
     "text": [
      "Conjunto M: {1, 2, 3, 4}\n",
      "Conjunto N: {3, 4, 5, 6}\n",
      "Diferencia (M - N): {1, 2}\n"
     ]
    }
   ],
   "source": [
    "conjunto_m = {1, 2, 3, 4}\n",
    "conjunto_n = {3, 4, 5, 6}\n",
    "\n",
    "diferencia = conjunto_m.difference(conjunto_n)\n",
    "\n",
    "print(\"Conjunto M:\", conjunto_m)\n",
    "print(\"Conjunto N:\", conjunto_n)\n",
    "print(\"Diferencia (M - N):\", diferencia)"
   ]
  },
  {
   "cell_type": "markdown",
   "id": "2b4e23d3",
   "metadata": {},
   "source": [
    "7.\tCalcula la diferencia simétrica de dos conjuntos y muestra el resultado."
   ]
  },
  {
   "cell_type": "code",
   "execution_count": 34,
   "id": "9af421ef",
   "metadata": {},
   "outputs": [
    {
     "name": "stdout",
     "output_type": "stream",
     "text": [
      "Conjunto P: {1, 2, 3, 4}\n",
      "Conjunto Q: {3, 4, 5, 6}\n",
      "Diferencia simétrica: {1, 2, 5, 6}\n"
     ]
    }
   ],
   "source": [
    "conjunto_p = {1, 2, 3, 4}\n",
    "conjunto_q = {3, 4, 5, 6}\n",
    "\n",
    "dif_simétrica = conjunto_p.symmetric_difference(conjunto_q)\n",
    "\n",
    "print(\"Conjunto P:\", conjunto_p)\n",
    "print(\"Conjunto Q:\", conjunto_q)\n",
    "print(\"Diferencia simétrica:\", dif_simétrica)"
   ]
  },
  {
   "cell_type": "markdown",
   "id": "1a838fb6",
   "metadata": {},
   "source": [
    "8.\tVerifica si un conjunto es subconjunto de otro y muestra el resultado booleano."
   ]
  },
  {
   "cell_type": "code",
   "execution_count": 35,
   "id": "2229a587",
   "metadata": {},
   "outputs": [
    {
     "name": "stdout",
     "output_type": "stream",
     "text": [
      "Conjunto A: {1, 2, 3}\n",
      "Conjunto B: {1, 2, 3, 4, 5}\n",
      "¿A es subconjunto de B?: True\n"
     ]
    }
   ],
   "source": [
    "conjunto_a = {1, 2, 3}\n",
    "conjunto_b = {1, 2, 3, 4, 5}\n",
    "\n",
    "es_subconjunto = conjunto_a.issubset(conjunto_b)\n",
    "\n",
    "print(\"Conjunto A:\", conjunto_a)\n",
    "print(\"Conjunto B:\", conjunto_b)\n",
    "print(\"¿A es subconjunto de B?:\", es_subconjunto)"
   ]
  },
  {
   "cell_type": "markdown",
   "id": "af98e50e",
   "metadata": {},
   "source": [
    "9.\tVerifica si un conjunto es superconjunto de otro."
   ]
  },
  {
   "cell_type": "code",
   "execution_count": 36,
   "id": "9402354f",
   "metadata": {},
   "outputs": [
    {
     "name": "stdout",
     "output_type": "stream",
     "text": [
      "Conjunto A: {1, 2, 3}\n",
      "Conjunto B: {1, 2, 3, 4, 5}\n",
      "¿B es superconjunto de A?: True\n"
     ]
    }
   ],
   "source": [
    "conjunto_a = {1, 2, 3}\n",
    "conjunto_b = {1, 2, 3, 4, 5}\n",
    "\n",
    "es_superconjunto = conjunto_b.issuperset(conjunto_a)\n",
    "\n",
    "print(\"Conjunto A:\", conjunto_a)\n",
    "print(\"Conjunto B:\", conjunto_b)\n",
    "print(\"¿B es superconjunto de A?:\", es_superconjunto)"
   ]
  },
  {
   "cell_type": "markdown",
   "id": "3e4071ea",
   "metadata": {},
   "source": [
    "10.\tCrea un frozenset y demuestra que no puedes añadir o eliminar elementos."
   ]
  },
  {
   "cell_type": "code",
   "execution_count": 37,
   "id": "a989f26c",
   "metadata": {},
   "outputs": [
    {
     "name": "stdout",
     "output_type": "stream",
     "text": [
      "Frozenset: frozenset({1, 2, 3, 4, 5})\n",
      "Error: No se puede usar add() en un frozenset\n",
      "Error: No se puede usar remove() en un frozenset\n"
     ]
    }
   ],
   "source": [
    "frozen = frozenset([1, 2, 3, 4, 5])\n",
    "print(\"Frozenset:\", frozen)\n",
    "\n",
    "try:\n",
    "    frozen.add(6)\n",
    "except AttributeError:\n",
    "    print(\"Error: No se puede usar add() en un frozenset\")\n",
    "\n",
    "try:\n",
    "    frozen.remove(3)\n",
    "except AttributeError:\n",
    "    print(\"Error: No se puede usar remove() en un frozenset\")"
   ]
  },
  {
   "cell_type": "markdown",
   "id": "76bbcea8",
   "metadata": {},
   "source": [
    "11.\tConvierte una lista con elementos duplicados en un conjunto para eliminar los duplicados y luego imprime la lista y el conjunto para comparar."
   ]
  },
  {
   "cell_type": "code",
   "execution_count": 39,
   "id": "23b100bb",
   "metadata": {},
   "outputs": [
    {
     "name": "stdout",
     "output_type": "stream",
     "text": [
      "Lista original: [1, 2, 2, 3, 4, 4, 4, 5, 1, 3]\n",
      "Conjunto (sin duplicados): {1, 2, 3, 4, 5}\n"
     ]
    }
   ],
   "source": [
    "lista = [1, 2, 2, 3, 4, 4, 4, 5, 1, 3]\n",
    "conjunto = set(lista)\n",
    "\n",
    "print(\"Lista original:\", lista)\n",
    "print(\"Conjunto (sin duplicados):\", conjunto)"
   ]
  },
  {
   "cell_type": "markdown",
   "id": "0c163fdc",
   "metadata": {},
   "source": [
    "12.\tCalcula y muestra la longitud de un conjunto."
   ]
  },
  {
   "cell_type": "code",
   "execution_count": null,
   "id": "22a08d6d",
   "metadata": {},
   "outputs": [
    {
     "name": "stdout",
     "output_type": "stream",
     "text": [
      "Conjunto: {'pez', 'gato', 'perro', 'loro', 'hamster'}\n",
      "Longitud del conjunto: 5\n"
     ]
    }
   ],
   "source": [
    "animales = {\"perro\", \"gato\", \"loro\", \"pez\", \"hamster\"}\n",
    "longitud = len(animales)\n",
    "\n",
    "print(\"Conjunto:\", animales)\n",
    "print(\"Longitud del conjunto:\", longitud)"
   ]
  },
  {
   "cell_type": "markdown",
   "id": "cf3a1a26",
   "metadata": {},
   "source": [
    "13.\tEscribe un programa que vacíe un conjunto completamente."
   ]
  },
  {
   "cell_type": "code",
   "execution_count": 41,
   "id": "af8d5273",
   "metadata": {},
   "outputs": [
    {
     "name": "stdout",
     "output_type": "stream",
     "text": [
      "Conjunto antes de vaciar: {'Barcelona', 'Valencia', 'Madrid', 'Sevilla'}\n",
      "Conjunto después de clear(): set()\n"
     ]
    }
   ],
   "source": [
    "ciudades = {\"Madrid\", \"Barcelona\", \"Valencia\", \"Sevilla\"}\n",
    "print(\"Conjunto antes de vaciar:\", ciudades)\n",
    "\n",
    "ciudades.clear()\n",
    "print(\"Conjunto después de clear():\", ciudades)"
   ]
  },
  {
   "cell_type": "markdown",
   "id": "9a142a44",
   "metadata": {},
   "source": [
    "14.\tDemuestra cómo iterar sobre los elementos de un conjunto e imprímelos."
   ]
  },
  {
   "cell_type": "code",
   "execution_count": 42,
   "id": "c1f30498",
   "metadata": {},
   "outputs": [
    {
     "name": "stdout",
     "output_type": "stream",
     "text": [
      "Iterando sobre el conjunto:\n",
      "amarillo\n",
      "verde\n",
      "azul\n",
      "rojo\n"
     ]
    }
   ],
   "source": [
    "colores = {\"rojo\", \"azul\", \"verde\", \"amarillo\"}\n",
    "print(\"Iterando sobre el conjunto:\")\n",
    "\n",
    "for color in colores:\n",
    "    print(color)"
   ]
  },
  {
   "cell_type": "markdown",
   "id": "81405c20",
   "metadata": {},
   "source": [
    "15.\tEncuentra la intersección de dos conjuntos sin modificar los conjuntos originales, utilizando métodos que no alteren dichos conjuntos."
   ]
  },
  {
   "cell_type": "code",
   "execution_count": 43,
   "id": "20cb820e",
   "metadata": {},
   "outputs": [
    {
     "name": "stdout",
     "output_type": "stream",
     "text": [
      "Conjunto 1: {1, 2, 3, 4, 5}\n",
      "Conjunto 2: {4, 5, 6, 7, 8}\n",
      "Intersección: {4, 5}\n",
      "Conjunto 1 (sin cambios): {1, 2, 3, 4, 5}\n",
      "Conjunto 2 (sin cambios): {4, 5, 6, 7, 8}\n"
     ]
    }
   ],
   "source": [
    "conjunto1 = {1, 2, 3, 4, 5}\n",
    "conjunto2 = {4, 5, 6, 7, 8}\n",
    "\n",
    "intersección = conjunto1.intersection(conjunto2)\n",
    "\n",
    "print(\"Conjunto 1:\", conjunto1)\n",
    "print(\"Conjunto 2:\", conjunto2)\n",
    "print(\"Intersección:\", intersección)\n",
    "print(\"Conjunto 1 (sin cambios):\", conjunto1)\n",
    "print(\"Conjunto 2 (sin cambios):\", conjunto2)"
   ]
  }
 ],
 "metadata": {
  "kernelspec": {
   "display_name": "Python 3",
   "language": "python",
   "name": "python3"
  },
  "language_info": {
   "codemirror_mode": {
    "name": "ipython",
    "version": 3
   },
   "file_extension": ".py",
   "mimetype": "text/x-python",
   "name": "python",
   "nbconvert_exporter": "python",
   "pygments_lexer": "ipython3",
   "version": "3.13.7"
  }
 },
 "nbformat": 4,
 "nbformat_minor": 5
}
