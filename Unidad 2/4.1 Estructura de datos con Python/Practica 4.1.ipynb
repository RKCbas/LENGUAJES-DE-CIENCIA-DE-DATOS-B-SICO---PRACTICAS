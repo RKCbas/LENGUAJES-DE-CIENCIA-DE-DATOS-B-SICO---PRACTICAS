{
 "cells": [
  {
   "cell_type": "markdown",
   "id": "d2fe44a5",
   "metadata": {},
   "source": [
    "# Estructuras de datos con Python\n",
    "\n",
    "Esta actividad tiene como objetivo evaluar la comprensión sobre listas, diccionarios, tuplas y conjuntos, las cuales son estructuras fundamentales y herramientas que permiten almacenar, manipular y organizar datos de manera eficiente. Los ejercicios deberán ser desarrollados usando lo aprendido sobre funciones.\n",
    "\n",
    "## 1. Listas"
   ]
  },
  {
   "cell_type": "markdown",
   "id": "3a8e7a2d",
   "metadata": {},
   "source": [
    "1.\tEscribe un programa para crear e imprimir una lista que contenga los primeros cinco números enteros positivos."
   ]
  },
  {
   "cell_type": "code",
   "execution_count": 2,
   "id": "1e17baac",
   "metadata": {},
   "outputs": [
    {
     "name": "stdout",
     "output_type": "stream",
     "text": [
      "1 2 3 4 5\n"
     ]
    }
   ],
   "source": [
    "list = []\n",
    "for i in range(5):\n",
    "    list.append(i+1)\n",
    "print(*list)"
   ]
  },
  {
   "cell_type": "markdown",
   "id": "770126fc",
   "metadata": {},
   "source": [
    "2.\tDada la lista [1, 2, 3, 4, 5], escribe un programa que imprima el tercer elemento."
   ]
  },
  {
   "cell_type": "markdown",
   "id": "00e2d7b6",
   "metadata": {},
   "source": [
    "3.\tCrea una lista con los nombres de tres colores. Cambia el valor del segundo color por \"verde\"."
   ]
  },
  {
   "cell_type": "markdown",
   "id": "a7d6d790",
   "metadata": {},
   "source": [
    "4.\tPartiendo de una lista vacía, añade los elementos 1, 2 y 3 utilizando el método append()."
   ]
  },
  {
   "cell_type": "markdown",
   "id": "a92e9b29",
   "metadata": {},
   "source": [
    "5.\tDada una lista con cuatro elementos, elimina el último elemento y muestra la lista resultante."
   ]
  },
  {
   "cell_type": "markdown",
   "id": "e3160d28",
   "metadata": {},
   "source": [
    "6.\tToma la lista [1, 2, 3, 4, 5, 6, 7, 8, 9] y utiliza slicing para obtener una nueva lista que contenga solo los elementos en posiciones impares."
   ]
  },
  {
   "cell_type": "markdown",
   "id": "ab42585f",
   "metadata": {},
   "source": [
    "7.\tDemuestra cómo copiar una lista en otra y verifica que son dos objetos diferentes."
   ]
  },
  {
   "cell_type": "markdown",
   "id": "4e486bee",
   "metadata": {},
   "source": [
    "8.\tUne dos listas [1, 2, 3] y [4, 5, 6] en una sola lista."
   ]
  },
  {
   "cell_type": "markdown",
   "id": "bbc0c7e6",
   "metadata": {},
   "source": [
    "9.\tCrea una lista que contenga tres listas, cada una con tres números enteros."
   ]
  },
  {
   "cell_type": "markdown",
   "id": "0253d154",
   "metadata": {},
   "source": [
    "10.\tDada una lista con algunos elementos repetidos, escribe un programa que cuente cuántas veces aparece el número 5."
   ]
  },
  {
   "cell_type": "markdown",
   "id": "22454b62",
   "metadata": {},
   "source": [
    "11.\tUtiliza el método extend() para añadir los elementos de una lista [4, 5, 6] a otra lista [1, 2, 3]."
   ]
  },
  {
   "cell_type": "markdown",
   "id": "096e7493",
   "metadata": {},
   "source": [
    "12.\tBusca el índice del elemento “Python” en la lista [“Java”, “C”, “Python”, “JavaScript”]."
   ]
  },
  {
   "cell_type": "markdown",
   "id": "9dfa9e15",
   "metadata": {},
   "source": [
    "13.\tEscribe un programa que invierta el orden de los elementos en una lista."
   ]
  },
  {
   "cell_type": "markdown",
   "id": "fea971b8",
   "metadata": {},
   "source": [
    "14.\tDada una lista de números desordenados, escribe un programa que los ordene de menor a mayor."
   ]
  },
  {
   "cell_type": "markdown",
   "id": "2e6b258d",
   "metadata": {},
   "source": [
    "15.\tEscribe un programa que imprima todos los números primos menores de 1000. Un número primo no puede ser dividido de manera exacta por ningún otro número natural aparte de 1 y sí mismo. Deberás escribir este programa creando una lista de números primos. Para comenzar, la lista está vacía. Luego escribes dos bucles for anidados. El bucle for externo recorre todos los números del 2 al 999. El bucle for interno recorre la lista de números primos. Si el siguiente número en el bucle for externo no es divisible por ninguno de los números primos, entonces es primo y puede ser impreso como tal y añadido a la lista de primos. Para añadir un elemento, e, a una lista, lst, puedes escribir lst.append(e). Para finalizar, imprima el conteo de los números primos en la lista y calcule su promedio. El programa debe contener tres funciones, esPrimo, contarPrimos y promedioPrimos."
   ]
  },
  {
   "cell_type": "markdown",
   "id": "9ee5d106",
   "metadata": {},
   "source": [
    "## 2. Tuplas"
   ]
  },
  {
   "cell_type": "markdown",
   "id": "7b394578",
   "metadata": {},
   "source": [
    "1.\tEscribe un programa para crear una tupla con diferentes tipos de datos (entero, flotante, string)."
   ]
  },
  {
   "cell_type": "markdown",
   "id": "7dbf16e2",
   "metadata": {},
   "source": [
    "2.\tDemuestra cómo crear una tupla con un solo elemento."
   ]
  },
  {
   "cell_type": "markdown",
   "id": "bdf0f135",
   "metadata": {},
   "source": [
    "3.\tDada la tupla tup = (“Python”, “Java”, “C++”) accede e imprime el segundo elemento."
   ]
  },
  {
   "cell_type": "markdown",
   "id": "7e46bc0f",
   "metadata": {},
   "source": [
    "4.\tUtiliza slicing para obtener los últimos dos elementos de una tupla."
   ]
  },
  {
   "cell_type": "markdown",
   "id": "1824c9f6",
   "metadata": {},
   "source": [
    "5.\tUne dos tuplas dadas en una sola tupla."
   ]
  },
  {
   "cell_type": "markdown",
   "id": "5c0cd20e",
   "metadata": {},
   "source": [
    "6.\tCrea una tupla y demuestra cómo repetirla para formar una tupla más grande."
   ]
  },
  {
   "cell_type": "markdown",
   "id": "6fbe8e20",
   "metadata": {},
   "source": [
    "7.\tVerifica si un elemento específico (por ejemplo, “Python”) existe en una tupla dada."
   ]
  },
  {
   "cell_type": "markdown",
   "id": "181fc08a",
   "metadata": {},
   "source": [
    "8.\tCuenta cuántas veces un elemento específico aparece en una tupla."
   ]
  },
  {
   "cell_type": "markdown",
   "id": "e74c2fbb",
   "metadata": {},
   "source": [
    "9.\tEncuentra el índice de un elemento dado en una tupla."
   ]
  },
  {
   "cell_type": "markdown",
   "id": "5d358540",
   "metadata": {},
   "source": [
    "10.\tConvierte una lista dada en una tupla."
   ]
  },
  {
   "cell_type": "markdown",
   "id": "b9874242",
   "metadata": {},
   "source": [
    "11.\tDada una tupla de tres elementos, utiliza el desempaquetado de tuplas para asignar cada elemento a una variable distinta."
   ]
  },
  {
   "cell_type": "markdown",
   "id": "f1b18dd5",
   "metadata": {},
   "source": [
    "12.\tIntenta cambiar un elemento en una tupla para demostrar su inmutabilidad."
   ]
  },
  {
   "cell_type": "markdown",
   "id": "b9bde7f9",
   "metadata": {},
   "source": [
    "13.\tEncuentra el valor máximo y mínimo en una tupla de números."
   ]
  },
  {
   "cell_type": "markdown",
   "id": "7419d038",
   "metadata": {},
   "source": [
    "14.\tEscribe un programa que convierta una cadena dada en una tupla de caracteres."
   ]
  },
  {
   "cell_type": "markdown",
   "id": "9c386259",
   "metadata": {},
   "source": [
    "15.\tDada una tupla de números, escribe un programa que devuelva una nueva tupla ordenada de menor a mayor."
   ]
  },
  {
   "cell_type": "markdown",
   "id": "55945cc9",
   "metadata": {},
   "source": [
    "## 3. Diccionarios"
   ]
  },
  {
   "cell_type": "markdown",
   "id": "51636511",
   "metadata": {},
   "source": [
    "1.\tEscribe un programa que cree un diccionario con tres pares clave-valor e imprímelo."
   ]
  },
  {
   "cell_type": "markdown",
   "id": "cfa3a1cb",
   "metadata": {},
   "source": [
    "2.\tDado un diccionario, accede e imprime el valor asociado a una clave específica."
   ]
  },
  {
   "cell_type": "markdown",
   "id": "25b7733e",
   "metadata": {},
   "source": [
    "3.\tAñade un nuevo par clave-valor a un diccionario existente y muestra el diccionario actualizado."
   ]
  },
  {
   "cell_type": "markdown",
   "id": "460a599e",
   "metadata": {},
   "source": [
    "4.\tElimina un par clave-valor específico de un diccionario usando su clave."
   ]
  },
  {
   "cell_type": "markdown",
   "id": "6fc5d684",
   "metadata": {},
   "source": [
    "5.\tDado un diccionario, imprime todas sus claves y luego todos sus valores."
   ]
  },
  {
   "cell_type": "markdown",
   "id": "26e47136",
   "metadata": {},
   "source": [
    "6.\tVerifica si una clave específica existe en un diccionario."
   ]
  },
  {
   "cell_type": "markdown",
   "id": "86951048",
   "metadata": {},
   "source": [
    "7.\tCrea un diccionario que contenga otro diccionario (diccionario anidado) y accede a un valor del diccionario interno."
   ]
  },
  {
   "cell_type": "markdown",
   "id": "02da873a",
   "metadata": {},
   "source": [
    "8.\tEscribe un programa que itere sobre las claves y valores de un diccionario e imprima cada par."
   ]
  },
  {
   "cell_type": "markdown",
   "id": "bd68b1cb",
   "metadata": {},
   "source": [
    "9.\tEncuentra y muestra la cantidad de pares clave-valor en un diccionario."
   ]
  },
  {
   "cell_type": "markdown",
   "id": "521607c3",
   "metadata": {},
   "source": [
    "10.\tCrea una copia de un diccionario existente y demuestra que son dos objetos distintos."
   ]
  },
  {
   "cell_type": "markdown",
   "id": "74a8e14b",
   "metadata": {},
   "source": [
    "11.\tUsa el método update para añadir nuevos pares clave-valor a un diccionario desde otro diccionario."
   ]
  },
  {
   "cell_type": "markdown",
   "id": "b0d05d23",
   "metadata": {},
   "source": [
    "12.\tUtiliza dos listas, una de claves y otra de valores, para crear un diccionario."
   ]
  },
  {
   "cell_type": "markdown",
   "id": "9adce8f2",
   "metadata": {},
   "source": [
    "13.\tBorra todos los elementos de un diccionario, dejándolo vacío."
   ]
  },
  {
   "cell_type": "markdown",
   "id": "66644284",
   "metadata": {},
   "source": [
    "14.\tDemuestra cómo usar el método get para acceder a un valor de un diccionario sin provocar un error si la clave no existe."
   ]
  },
  {
   "cell_type": "markdown",
   "id": "e3a60be1",
   "metadata": {},
   "source": [
    "15.\tDadas dos listas de igual longitud, una de claves y otra de valores, combínalas para formar un diccionario."
   ]
  },
  {
   "cell_type": "markdown",
   "id": "c5024c40",
   "metadata": {},
   "source": [
    "## 4. Conjuntos"
   ]
  },
  {
   "cell_type": "markdown",
   "id": "12ea5e53",
   "metadata": {},
   "source": [
    " 1.\tEscribe un programa para crear un conjunto con al menos 5 elementos y luego imprímelo."
   ]
  },
  {
   "cell_type": "markdown",
   "id": "98eac6e6",
   "metadata": {},
   "source": [
    "2.\tDemuestra cómo añadir un elemento a un conjunto existente."
   ]
  },
  {
   "cell_type": "markdown",
   "id": "8102f2c5",
   "metadata": {},
   "source": [
    "3.\tEscribe un programa que elimine un elemento específico de un conjunto usando el método remove(). Asegúrate de manejar el caso en que el elemento no exista."
   ]
  },
  {
   "cell_type": "markdown",
   "id": "5dfef936",
   "metadata": {},
   "source": [
    "4.\tDados dos conjuntos, encuentra su unión y muestra el resultado."
   ]
  },
  {
   "cell_type": "markdown",
   "id": "bbe1b7be",
   "metadata": {},
   "source": [
    "5.\tEncuentra la intersección de dos conjuntos y muestra el conjunto resultante."
   ]
  },
  {
   "cell_type": "markdown",
   "id": "f894ec46",
   "metadata": {},
   "source": [
    "6.\tDados dos conjuntos, calcula la diferencia entre ellos y muestra el conjunto resultante."
   ]
  },
  {
   "cell_type": "markdown",
   "id": "2b4e23d3",
   "metadata": {},
   "source": [
    "7.\tCalcula la diferencia simétrica de dos conjuntos y muestra el resultado."
   ]
  },
  {
   "cell_type": "markdown",
   "id": "1a838fb6",
   "metadata": {},
   "source": [
    "8.\tVerifica si un conjunto es subconjunto de otro y muestra el resultado booleano."
   ]
  },
  {
   "cell_type": "markdown",
   "id": "af98e50e",
   "metadata": {},
   "source": [
    "9.\tVerifica si un conjunto es superconjunto de otro."
   ]
  },
  {
   "cell_type": "markdown",
   "id": "3e4071ea",
   "metadata": {},
   "source": [
    "10.\tCrea un frozenset y demuestra que no puedes añadir o eliminar elementos."
   ]
  },
  {
   "cell_type": "markdown",
   "id": "76bbcea8",
   "metadata": {},
   "source": [
    "11.\tConvierte una lista con elementos duplicados en un conjunto para eliminar los duplicados y luego imprime la lista y el conjunto para comparar."
   ]
  },
  {
   "cell_type": "markdown",
   "id": "0c163fdc",
   "metadata": {},
   "source": [
    "12.\tCalcula y muestra la longitud de un conjunto."
   ]
  },
  {
   "cell_type": "markdown",
   "id": "cf3a1a26",
   "metadata": {},
   "source": [
    "13.\tEscribe un programa que vacíe un conjunto completamente."
   ]
  },
  {
   "cell_type": "markdown",
   "id": "9a142a44",
   "metadata": {},
   "source": [
    "14.\tDemuestra cómo iterar sobre los elementos de un conjunto e imprímelos."
   ]
  },
  {
   "cell_type": "markdown",
   "id": "81405c20",
   "metadata": {},
   "source": [
    "15.\tEncuentra la intersección de dos conjuntos sin modificar los conjuntos originales, utilizando métodos que no alteren dichos conjuntos."
   ]
  }
 ],
 "metadata": {
  "kernelspec": {
   "display_name": "Python 3",
   "language": "python",
   "name": "python3"
  },
  "language_info": {
   "codemirror_mode": {
    "name": "ipython",
    "version": 3
   },
   "file_extension": ".py",
   "mimetype": "text/x-python",
   "name": "python",
   "nbconvert_exporter": "python",
   "pygments_lexer": "ipython3",
   "version": "3.13.7"
  }
 },
 "nbformat": 4,
 "nbformat_minor": 5
}
