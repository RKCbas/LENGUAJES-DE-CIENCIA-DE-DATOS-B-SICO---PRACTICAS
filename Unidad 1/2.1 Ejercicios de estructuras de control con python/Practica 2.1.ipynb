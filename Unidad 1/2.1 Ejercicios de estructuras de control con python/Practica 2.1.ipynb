{
 "cells": [
  {
   "cell_type": "markdown",
   "id": "7d47c37f",
   "metadata": {},
   "source": [
    "# Estructuras de control\n",
    "\n",
    "Esta actividad tiene como objetivo evaluar la comprensión de las estructuras de control iterativas: while y for, incluyendo el manejo de break y continue. También se enfocará en la comprensión de las estructuras de control de ramificación (flujo de control), las cuales permiten que un programa tome decisiones y ejecute diferentes segmentos de código dependiendo de ciertas condiciones. Las estructuras a evaluar en este aspecto incluyen: if, if/else y if/elif/else.\n",
    "\n",
    "Importaciones necesarias:\n",
    "- InquirerPy\n",
    "- rich.console"
   ]
  },
  {
   "cell_type": "markdown",
   "id": "75437c36",
   "metadata": {},
   "source": [
    "## Estructuras de control iterativas"
   ]
  },
  {
   "cell_type": "markdown",
   "id": "a1fdac16",
   "metadata": {},
   "source": [
    "1. Escribe un programa que imprima los números del 1 al 10 usando un bucle for."
   ]
  },
  {
   "cell_type": "code",
   "execution_count": 1,
   "id": "73526fee",
   "metadata": {},
   "outputs": [
    {
     "name": "stdout",
     "output_type": "stream",
     "text": [
      "1\n",
      "2\n",
      "3\n",
      "4\n",
      "5\n",
      "6\n",
      "7\n",
      "8\n",
      "9\n",
      "10\n"
     ]
    }
   ],
   "source": [
    "for i in range(0,10):\n",
    "    print(i+1)"
   ]
  },
  {
   "cell_type": "markdown",
   "id": "4f585614",
   "metadata": {},
   "source": [
    "2. Utiliza un bucle while para sumar los números del 1 al 100."
   ]
  },
  {
   "cell_type": "code",
   "execution_count": 3,
   "id": "e6aa9cc3",
   "metadata": {},
   "outputs": [
    {
     "name": "stdout",
     "output_type": "stream",
     "text": [
      "result:  5050\n"
     ]
    }
   ],
   "source": [
    "i = 1\n",
    "result = 0\n",
    "\n",
    "while(i <= 100):\n",
    "    result += i\n",
    "    i += 1\n",
    "\n",
    "print(\"result: \", result)"
   ]
  },
  {
   "cell_type": "markdown",
   "id": "a40375e1",
   "metadata": {},
   "source": [
    "3. Escribe un programa que recorra los números del 1 al 20 y se detenga (usando break) cuando encuentre un número divisible por 7."
   ]
  },
  {
   "cell_type": "code",
   "execution_count": 2,
   "id": "a53d40c0",
   "metadata": {},
   "outputs": [
    {
     "name": "stdout",
     "output_type": "stream",
     "text": [
      "1\n",
      "2\n",
      "3\n",
      "4\n",
      "5\n",
      "6\n",
      "7  es divisible entre 7\n"
     ]
    }
   ],
   "source": [
    "for i in range(1, 21):\n",
    "    if i % 7 == 0:\n",
    "        print(i, \" es divisible entre 7\")\n",
    "        break\n",
    "    print(i)"
   ]
  },
  {
   "cell_type": "markdown",
   "id": "fb456884",
   "metadata": {},
   "source": [
    "4. Crea un bucle while que pase por los números del 1 al 15 y utilice continue para omitir los números impares."
   ]
  },
  {
   "cell_type": "code",
   "execution_count": 4,
   "id": "2e3385e5",
   "metadata": {},
   "outputs": [
    {
     "name": "stdout",
     "output_type": "stream",
     "text": [
      "2\n",
      "4\n",
      "6\n",
      "8\n",
      "10\n",
      "12\n",
      "14\n"
     ]
    }
   ],
   "source": [
    "i = 1\n",
    "\n",
    "while(i<=15):\n",
    "    if i % 2 == 1:\n",
    "        i += 1\n",
    "        continue\n",
    "    print(i)\n",
    "    i += 1"
   ]
  },
  {
   "cell_type": "markdown",
   "id": "85c9d227",
   "metadata": {},
   "source": [
    "5. Utiliza un bucle for para realizar un contador regresivo desde 10 hasta 1."
   ]
  },
  {
   "cell_type": "code",
   "execution_count": 5,
   "id": "cf508c5d",
   "metadata": {},
   "outputs": [
    {
     "name": "stdout",
     "output_type": "stream",
     "text": [
      "10\n",
      "9\n",
      "8\n",
      "7\n",
      "6\n",
      "5\n",
      "4\n",
      "3\n",
      "2\n",
      "1\n"
     ]
    }
   ],
   "source": [
    "for i in range(10,0,-1):\n",
    "    print(i)"
   ]
  },
  {
   "cell_type": "markdown",
   "id": "14f876bb",
   "metadata": {},
   "source": [
    "6. Crea una lista de 5 frutas y usa un bucle for para imprimir cada fruta en la lista."
   ]
  },
  {
   "cell_type": "code",
   "execution_count": 6,
   "id": "23d4d37d",
   "metadata": {},
   "outputs": [
    {
     "name": "stdout",
     "output_type": "stream",
     "text": [
      "Manzana\n",
      "Banana\n",
      "Fresa\n",
      "Sandia\n",
      "Mango\n"
     ]
    }
   ],
   "source": [
    "frutas = [\"Manzana\", \"Banana\", \"Fresa\", \"Sandia\", \"Mango\"]\n",
    "\n",
    "for fruta in frutas:\n",
    "    print(fruta)"
   ]
  },
  {
   "cell_type": "markdown",
   "id": "988232c0",
   "metadata": {},
   "source": [
    "7. Escribe un programa que muestre la tabla de multiplicar del 5 utilizando un bucle while."
   ]
  },
  {
   "cell_type": "code",
   "execution_count": 8,
   "id": "361f54a2",
   "metadata": {},
   "outputs": [
    {
     "name": "stdout",
     "output_type": "stream",
     "text": [
      "5 X 0 = 0\n",
      "5 X 1 = 5\n",
      "5 X 2 = 10\n",
      "5 X 3 = 15\n",
      "5 X 4 = 20\n",
      "5 X 5 = 25\n",
      "5 X 6 = 30\n",
      "5 X 7 = 35\n",
      "5 X 8 = 40\n",
      "5 X 9 = 45\n",
      "5 X 10 = 50\n"
     ]
    }
   ],
   "source": [
    "limite = eval(input(\"Imprimir la tabla del 5 desde el 0 al: \"))\n",
    "\n",
    "i = 0\n",
    "\n",
    "while(i <= limite):\n",
    "    print(f\"5 X {i} = {i*5}\")\n",
    "    i += 1"
   ]
  },
  {
   "cell_type": "markdown",
   "id": "6760f883",
   "metadata": {},
   "source": [
    "8. Diseña un bucle while que se ejecute indefinidamente hasta que el usuario introduzca la palabra \"salir\"."
   ]
  },
  {
   "cell_type": "code",
   "execution_count": 11,
   "id": "ae2ad5dd",
   "metadata": {},
   "outputs": [
    {
     "name": "stdout",
     "output_type": "stream",
     "text": [
      "Adios\n"
     ]
    }
   ],
   "source": [
    "while(True):\n",
    "    command = input(\"Ingrese 'Salir' para salir: \").lower()\n",
    "\n",
    "    if command == \"salir\":\n",
    "        print(\"Adios\")\n",
    "        break"
   ]
  },
  {
   "cell_type": "markdown",
   "id": "37033fdd",
   "metadata": {},
   "source": [
    "9. Crea un bucle for que itere de 1 a 30 y use continue para omitir los múltiplos de 3."
   ]
  },
  {
   "cell_type": "code",
   "execution_count": 12,
   "id": "93013818",
   "metadata": {},
   "outputs": [
    {
     "name": "stdout",
     "output_type": "stream",
     "text": [
      "1\n",
      "2\n",
      "4\n",
      "5\n",
      "7\n",
      "8\n",
      "10\n",
      "11\n",
      "13\n",
      "14\n",
      "16\n",
      "17\n",
      "19\n",
      "20\n",
      "22\n",
      "23\n",
      "25\n",
      "26\n",
      "28\n",
      "29\n"
     ]
    }
   ],
   "source": [
    "for i in range(1,31):\n",
    "    if i % 3 == 0:\n",
    "        continue\n",
    "    print(i)"
   ]
  },
  {
   "cell_type": "markdown",
   "id": "48fddd5b",
   "metadata": {},
   "source": [
    "10. Escribe un programa que utilice bucles for anidados para imprimir un patrón de asteriscos en forma de cuadrado 5 5."
   ]
  },
  {
   "cell_type": "code",
   "execution_count": 13,
   "id": "1953fe97",
   "metadata": {},
   "outputs": [
    {
     "name": "stdout",
     "output_type": "stream",
     "text": [
      "*****\n",
      "*****\n",
      "*****\n",
      "*****\n",
      "*****\n"
     ]
    }
   ],
   "source": [
    "for i in range(5):\n",
    "    for j in range(5):\n",
    "        print('*', end='')\n",
    "    print()"
   ]
  },
  {
   "cell_type": "markdown",
   "id": "f19bf0ae",
   "metadata": {},
   "source": [
    "11. Utiliza bucles anidados for para imprimir una matriz 5 5 y usa continue para omitir la impresión de los elementos de la diagonal principal."
   ]
  },
  {
   "cell_type": "code",
   "execution_count": 14,
   "id": "244c504e",
   "metadata": {},
   "outputs": [
    {
     "name": "stdout",
     "output_type": "stream",
     "text": [
      " ****\n",
      "* ***\n",
      "** **\n",
      "*** *\n",
      "**** \n"
     ]
    }
   ],
   "source": [
    "for i in range(5):\n",
    "    for j in range(5):\n",
    "        if i == j:\n",
    "            print(end=' ')\n",
    "            continue\n",
    "        print('*', end='')\n",
    "    print()"
   ]
  },
  {
   "cell_type": "markdown",
   "id": "cfe6e090",
   "metadata": {},
   "source": [
    "12. Escribe un programa que genere los primeros 10 números de la secuencia de Fibonacci usando un bucle while."
   ]
  },
  {
   "cell_type": "code",
   "execution_count": 19,
   "id": "b19de956",
   "metadata": {},
   "outputs": [
    {
     "name": "stdout",
     "output_type": "stream",
     "text": [
      "#1: 1\n",
      "#2: 1\n",
      "#3: 2\n",
      "#4: 3\n",
      "#5: 5\n",
      "#6: 8\n",
      "#7: 13\n",
      "#8: 21\n",
      "#9: 34\n",
      "#10: 55\n"
     ]
    }
   ],
   "source": [
    "i = 1\n",
    "ant_fib = 0\n",
    "fib = 1\n",
    "while(i <= 10):\n",
    "    print(f\"#{i}: {fib}\")\n",
    "    fib, ant_fib = fib + ant_fib, fib \n",
    "    i += 1"
   ]
  },
  {
   "cell_type": "markdown",
   "id": "eef69fe4",
   "metadata": {},
   "source": [
    "13. Utiliza bucles anidados for para generar pares de números (1-10) y usa break para salir del bucle interno si la suma de los pares es mayor que 15."
   ]
  },
  {
   "cell_type": "code",
   "execution_count": 24,
   "id": "435798f0",
   "metadata": {},
   "outputs": [
    {
     "name": "stdout",
     "output_type": "stream",
     "text": [
      "#1. Par 1: 1, Par 2: 1\n",
      "#2. Par 1: 1, Par 2: 2\n",
      "#3. Par 1: 1, Par 2: 3\n",
      "#4. Par 1: 1, Par 2: 4\n",
      "#5. Par 1: 1, Par 2: 5\n",
      "#6. Par 1: 1, Par 2: 6\n",
      "#7. Par 1: 1, Par 2: 7\n",
      "#8. Par 1: 1, Par 2: 8\n",
      "#9. Par 1: 1, Par 2: 9\n",
      "#10. Par 1: 1, Par 2: 10\n",
      "#11. Par 1: 2, Par 2: 1\n",
      "#12. Par 1: 2, Par 2: 2\n",
      "#13. Par 1: 2, Par 2: 3\n",
      "#14. Par 1: 2, Par 2: 4\n",
      "#15. Par 1: 2, Par 2: 5\n",
      "#16. Par 1: 2, Par 2: 6\n",
      "#17. Par 1: 2, Par 2: 7\n",
      "#18. Par 1: 2, Par 2: 8\n",
      "#19. Par 1: 2, Par 2: 9\n",
      "#20. Par 1: 2, Par 2: 10\n",
      "#21. Par 1: 3, Par 2: 1\n",
      "#22. Par 1: 3, Par 2: 2\n",
      "#23. Par 1: 3, Par 2: 3\n",
      "#24. Par 1: 3, Par 2: 4\n",
      "#25. Par 1: 3, Par 2: 5\n",
      "#26. Par 1: 3, Par 2: 6\n",
      "#27. Par 1: 3, Par 2: 7\n",
      "#28. Par 1: 3, Par 2: 8\n",
      "#29. Par 1: 3, Par 2: 9\n",
      "#30. Par 1: 3, Par 2: 10\n",
      "#31. Par 1: 4, Par 2: 1\n",
      "#32. Par 1: 4, Par 2: 2\n",
      "#33. Par 1: 4, Par 2: 3\n",
      "#34. Par 1: 4, Par 2: 4\n",
      "#35. Par 1: 4, Par 2: 5\n",
      "#36. Par 1: 4, Par 2: 6\n",
      "#37. Par 1: 4, Par 2: 7\n",
      "#38. Par 1: 4, Par 2: 8\n",
      "#39. Par 1: 4, Par 2: 9\n",
      "#40. Par 1: 4, Par 2: 10\n",
      "#41. Par 1: 5, Par 2: 1\n",
      "#42. Par 1: 5, Par 2: 2\n",
      "#43. Par 1: 5, Par 2: 3\n",
      "#44. Par 1: 5, Par 2: 4\n",
      "#45. Par 1: 5, Par 2: 5\n",
      "#46. Par 1: 5, Par 2: 6\n",
      "#47. Par 1: 5, Par 2: 7\n",
      "#48. Par 1: 5, Par 2: 8\n",
      "#49. Par 1: 5, Par 2: 9\n",
      "#50. Par 1: 5, Par 2: 10\n",
      "#51. Par 1: 6, Par 2: 1\n",
      "#52. Par 1: 6, Par 2: 2\n",
      "#53. Par 1: 6, Par 2: 3\n",
      "#54. Par 1: 6, Par 2: 4\n",
      "#55. Par 1: 6, Par 2: 5\n",
      "#56. Par 1: 6, Par 2: 6\n",
      "#57. Par 1: 6, Par 2: 7\n",
      "#58. Par 1: 6, Par 2: 8\n",
      "#59. Par 1: 6, Par 2: 9\n",
      "Como 6 (Par 1) más 10 (Par 2) es 16 y esto es mayor a 15 se va a detener el ciclo interno\n",
      "#60. Par 1: 7, Par 2: 1\n",
      "#61. Par 1: 7, Par 2: 2\n",
      "#62. Par 1: 7, Par 2: 3\n",
      "#63. Par 1: 7, Par 2: 4\n",
      "#64. Par 1: 7, Par 2: 5\n",
      "#65. Par 1: 7, Par 2: 6\n",
      "#66. Par 1: 7, Par 2: 7\n",
      "#67. Par 1: 7, Par 2: 8\n",
      "Como 7 (Par 1) más 9 (Par 2) es 16 y esto es mayor a 15 se va a detener el ciclo interno\n",
      "#68. Par 1: 8, Par 2: 1\n",
      "#69. Par 1: 8, Par 2: 2\n",
      "#70. Par 1: 8, Par 2: 3\n",
      "#71. Par 1: 8, Par 2: 4\n",
      "#72. Par 1: 8, Par 2: 5\n",
      "#73. Par 1: 8, Par 2: 6\n",
      "#74. Par 1: 8, Par 2: 7\n",
      "Como 8 (Par 1) más 8 (Par 2) es 16 y esto es mayor a 15 se va a detener el ciclo interno\n",
      "#75. Par 1: 9, Par 2: 1\n",
      "#76. Par 1: 9, Par 2: 2\n",
      "#77. Par 1: 9, Par 2: 3\n",
      "#78. Par 1: 9, Par 2: 4\n",
      "#79. Par 1: 9, Par 2: 5\n",
      "#80. Par 1: 9, Par 2: 6\n",
      "Como 9 (Par 1) más 7 (Par 2) es 16 y esto es mayor a 15 se va a detener el ciclo interno\n",
      "#81. Par 1: 10, Par 2: 1\n",
      "#82. Par 1: 10, Par 2: 2\n",
      "#83. Par 1: 10, Par 2: 3\n",
      "#84. Par 1: 10, Par 2: 4\n",
      "#85. Par 1: 10, Par 2: 5\n",
      "Como 10 (Par 1) más 6 (Par 2) es 16 y esto es mayor a 15 se va a detener el ciclo interno\n"
     ]
    }
   ],
   "source": [
    "ni = 1\n",
    "for i in range(1,11):\n",
    "    for j in range(1,11):\n",
    "        if i + j > 15:\n",
    "            print(f\"Como {i} (Par 1) más {j} (Par 2) es {i+j} y esto es mayor a 15 se va a detener el ciclo interno\")\n",
    "            break\n",
    "        print(f\"#{ni}. Par 1: {i}, Par 2: {j}\")\n",
    "        ni += 1"
   ]
  },
  {
   "cell_type": "markdown",
   "id": "ddf25d82",
   "metadata": {},
   "source": [
    "14. Escribe un programa que encuentre todos los números primos menores a 100 usando un bucle for."
   ]
  },
  {
   "cell_type": "code",
   "execution_count": 34,
   "id": "f2745029",
   "metadata": {},
   "outputs": [
    {
     "name": "stdout",
     "output_type": "stream",
     "text": [
      "#1. 2 es un numero primo\n",
      "#2. 3 es un numero primo\n",
      "#3. 5 es un numero primo\n",
      "#4. 7 es un numero primo\n",
      "#5. 11 es un numero primo\n",
      "#6. 13 es un numero primo\n",
      "#7. 17 es un numero primo\n",
      "#8. 19 es un numero primo\n",
      "#9. 23 es un numero primo\n",
      "#10. 29 es un numero primo\n",
      "#11. 31 es un numero primo\n",
      "#12. 37 es un numero primo\n",
      "#13. 41 es un numero primo\n",
      "#14. 43 es un numero primo\n",
      "#15. 47 es un numero primo\n",
      "#16. 53 es un numero primo\n",
      "#17. 59 es un numero primo\n",
      "#18. 61 es un numero primo\n",
      "#19. 67 es un numero primo\n",
      "#20. 71 es un numero primo\n",
      "#21. 73 es un numero primo\n",
      "#22. 79 es un numero primo\n",
      "#23. 83 es un numero primo\n",
      "#24. 89 es un numero primo\n",
      "#25. 97 es un numero primo\n"
     ]
    }
   ],
   "source": [
    "n = 1\n",
    "for i in range(2, 101):\n",
    "    for j in range(i-1, 0, -1):\n",
    "        if j == 1:\n",
    "            print(f\"#{n}. {i} es un numero primo\")\n",
    "            n += 1\n",
    "        if i % j == 0:\n",
    "            break"
   ]
  },
  {
   "cell_type": "markdown",
   "id": "4b979d30",
   "metadata": {},
   "source": [
    "15. Escribe un programa que genere un patrón de pirámide con asteriscos usando bucles anidados for."
   ]
  },
  {
   "cell_type": "code",
   "execution_count": 42,
   "id": "cbd712b1",
   "metadata": {},
   "outputs": [
    {
     "name": "stdout",
     "output_type": "stream",
     "text": [
      "Valor ingresado: 10\n",
      "#1.\t         *\n",
      "#2.\t        ***\n",
      "#3.\t       *****\n",
      "#4.\t      *******\n",
      "#5.\t     *********\n",
      "#6.\t    ***********\n",
      "#7.\t   *************\n",
      "#8.\t  ***************\n",
      "#9.\t *****************\n",
      "#10.\t*******************\n"
     ]
    }
   ],
   "source": [
    "filas = eval(input(\"Ingresa el número de filas: \"))\n",
    "\n",
    "print(f\"Valor ingresado: {filas}\")\n",
    "\n",
    "for i in range(1, filas + 1):\n",
    "    print(f\"#{i}.\\t\", end=\"\")\n",
    "    for j in range(filas - i):\n",
    "        print(\" \", end=\"\")\n",
    "    for k in range(2 * i - 1):\n",
    "        print(\"*\", end=\"\")\n",
    "    print()"
   ]
  },
  {
   "cell_type": "markdown",
   "id": "0386107f",
   "metadata": {},
   "source": [
    "## Estructuras de control de ramificación"
   ]
  },
  {
   "cell_type": "markdown",
   "id": "f7d609d1",
   "metadata": {},
   "source": [
    "16. Crea un programa que verifique si un número es positivo, y si lo es, que lo imprima en pantalla."
   ]
  },
  {
   "cell_type": "code",
   "execution_count": null,
   "id": "4cada1fd",
   "metadata": {},
   "outputs": [
    {
     "name": "stdout",
     "output_type": "stream",
     "text": [
      "Ingresaste el numero: 12\n",
      "El numero 12 es positivo\n"
     ]
    }
   ],
   "source": [
    "while(True):\n",
    "    try:\n",
    "        num = eval(input(\"Ingrese un numero para evaluar su signo: \"))\n",
    "        print(f\"Ingresaste el numero: {num}\")     \n",
    "\n",
    "        if num > 0:\n",
    "            print(f\"El numero {num} es positivo\")\n",
    "        elif num < 0:\n",
    "            print(f\"El numero {num} es negativo\")\n",
    "        else:\n",
    "            print(f\"El numero {num} es neutro\")\n",
    "        break\n",
    "    except:\n",
    "        print(\"Ingrese un valor valido\")"
   ]
  },
  {
   "cell_type": "markdown",
   "id": "5028bb58",
   "metadata": {},
   "source": [
    "17. Escribe un programa que determine si un número es par o impar utilizando if/else."
   ]
  },
  {
   "cell_type": "code",
   "execution_count": null,
   "id": "732e6796",
   "metadata": {},
   "outputs": [
    {
     "name": "stdout",
     "output_type": "stream",
     "text": [
      "Ingresaste el numero: 5\n",
      "El numero 5 es impar\n"
     ]
    }
   ],
   "source": [
    "while(True):\n",
    "    try:\n",
    "        num = eval(input(\"Ingrese un numero para evaluar si es par/impar: \"))\n",
    "        print(f\"Ingresaste el numero: {num}\")\n",
    "\n",
    "        if num % 2 == 0:\n",
    "            print(f\"El numero {num} es par\")\n",
    "        else:\n",
    "            print(f\"El numero {num} es impar\")\n",
    "        break\n",
    "    except:\n",
    "        print(\"Ingrese un valor valido\")"
   ]
  },
  {
   "cell_type": "markdown",
   "id": "c9325db4",
   "metadata": {},
   "source": [
    "18. Usa if/elif/else para imprimir el nombre del día de la semana según un número dado (1-7)."
   ]
  },
  {
   "cell_type": "code",
   "execution_count": 1,
   "id": "9b9a9930",
   "metadata": {},
   "outputs": [
    {
     "name": "stdout",
     "output_type": "stream",
     "text": [
      "Ingrese un valor valido\n",
      "El valor que ingresaste es 12\n",
      "Ingrese un valor valido\n",
      "El valor que ingresaste es 7\n",
      "Domingo\n"
     ]
    }
   ],
   "source": [
    "while(True):\n",
    "    try:\n",
    "        num = eval(input(\"Ingrese un dia de la semana en numero (1-7): \"))\n",
    "        print(f\"El valor que ingresaste es {num}\")\n",
    "\n",
    "        if num == 1:\n",
    "            print(\"Lunes\")\n",
    "        elif num == 2:\n",
    "            print(\"Martes\")\n",
    "        elif num == 3:\n",
    "            print(\"Miércoles\")\n",
    "        elif num == 4:\n",
    "            print(\"Jueves\")\n",
    "        elif num == 5:\n",
    "            print(\"Viernes\")\n",
    "        elif num == 6:\n",
    "            print(\"Sábado\")\n",
    "        elif num == 7:\n",
    "            print(\"Domingo\")\n",
    "        else:\n",
    "            raise ValueError(\"No valid input\")\n",
    "\n",
    "        break\n",
    "    except:\n",
    "        print(\"Ingrese un valor valido\")\n"
   ]
  },
  {
   "cell_type": "markdown",
   "id": "d85c4455",
   "metadata": {},
   "source": [
    "19. Crea un programa que clasifique a las personas en: niño, adolescente, adulto o adulto mayor, basándose en su edad con if/elif/else."
   ]
  },
  {
   "cell_type": "code",
   "execution_count": null,
   "id": "05f410fe",
   "metadata": {},
   "outputs": [
    {
     "name": "stdout",
     "output_type": "stream",
     "text": [
      "La edad que ingresaste es -1\n",
      "Ingrese un valor valido \n",
      "La edad que ingresaste es 20\n",
      "20 años es la edad de un adolescente\n"
     ]
    }
   ],
   "source": [
    "while(True):\n",
    "    try:\n",
    "        edad = eval(input(\"Ingrese una edad: \"))\n",
    "        print(f\"La edad que ingresaste es {edad}\")\n",
    "\n",
    "        if edad < 0:\n",
    "            raise TypeError(\"No es una edad valida\")\n",
    "        elif edad < 13:\n",
    "            print(f\"{edad} años es la edad de un niño\")\n",
    "        elif edad < 24:\n",
    "            print(f\"{edad} años es la edad de un adolescente\")\n",
    "        elif edad < 50:\n",
    "            print(f\"{edad} años es la edad de un adulto\")\n",
    "        else:\n",
    "            print(f\"{edad} años es la edad de un adulto mayor\")\n",
    "\n",
    "        break\n",
    "    except:\n",
    "        print(\"Ingrese un valor valido \")"
   ]
  },
  {
   "attachments": {
    "image.png": {
     "image/png": "[encoded data removed]"
    }
   },
   "cell_type": "markdown",
   "id": "4290b1f2",
   "metadata": {},
   "source": [
    "20. Desarrolla una calculadora simple que realice operaciones básicas (suma, resta, multiplicación, división) basada en la entrada del usuario.\n",
    "\n",
    "> Debido a que el código ocupa una consola dejo se genero un archivo aparte `20. Calculadora.py` para ejecutarlo\n",
    "\n",
    "```python\n",
    "from InquirerPy import inquirer\n",
    "from rich.console import Console\n",
    "\n",
    "console = Console()\n",
    "\n",
    "def sumar(a, b): \n",
    "    return a + b\n",
    "def restar(a, b): \n",
    "    return a - b\n",
    "def multiplicar(a, b): \n",
    "    return a * b\n",
    "def dividir(a, b): \n",
    "    if b != 0:\n",
    "        return a / b\n",
    "    else:\n",
    "        raise ValueError(\"Error de división entre 0\")\n",
    "\n",
    "while(True):\n",
    "    try:\n",
    "        console.print(\"[bold cyan]=== Calculadora Básica ===[/bold cyan]\")\n",
    "        \n",
    "        operación = inquirer.select(\n",
    "            message=\"Elige una operación:\",\n",
    "            choices=[\"Sumar\", \"Restar\", \"Multiplicar\", \"Dividir\", \"Salir\"],\n",
    "        ).execute()\n",
    "\n",
    "        if operación == \"Salir\":\n",
    "            console.print(\"[bold red]Saliendo...[/bold red]\")\n",
    "            break\n",
    "\n",
    "        a = float(inquirer.text(message=\"Ingresa el primer número:\").execute())\n",
    "        b = float(inquirer.text(message=\"Ingresa el segundo número:\").execute())\n",
    "\n",
    "        # Calcular resultado\n",
    "        resultado = {\n",
    "            \"Sumar\": sumar,\n",
    "            \"Restar\": restar,\n",
    "            \"Multiplicar\": multiplicar,\n",
    "            \"Dividir\": dividir,\n",
    "        }[operación](a, b)\n",
    "\n",
    "        console.print(f\"\\n[bold green]Resultado de {operación} {a} y {b}: [yellow]{resultado}[/yellow]\\n\")\n",
    "\n",
    "    except ValueError as e:\n",
    "        console.print(f\"[bold red]{e}[/bold red]\")\n",
    "        break\n",
    "    except TypeError:\n",
    "        console.print(\"[bold red]Ingrese un valor valido...[/bold red]\")\n",
    "```\n",
    "\n",
    "![image.png](attachment:image.png)"
   ]
  },
  {
   "cell_type": "markdown",
   "id": "f8f7d410",
   "metadata": {},
   "source": [
    "21. Escribe un programa que verifique si la contraseña introducida por el usuario coincide con una contraseña almacenada, usando if/else."
   ]
  },
  {
   "cell_type": "code",
   "execution_count": 4,
   "id": "8e195c52",
   "metadata": {},
   "outputs": [
    {
     "name": "stdout",
     "output_type": "stream",
     "text": [
      "\t\t=== Login ===\n",
      "Contraseña Incorrecta ❌\n",
      "\t\t=== Login ===\n",
      "Contraseña Correcta ✔️\n"
     ]
    }
   ],
   "source": [
    "password = 'contraseña'\n",
    "\n",
    "while(True):\n",
    "    print(\"\\t\\t=== Login ===\")\n",
    "    v_password = input(\"Ingrese la contraseña: \")\n",
    "    if v_password == password:\n",
    "        print(\"Contraseña Correcta ✔️\")\n",
    "        break\n",
    "    else:\n",
    "        print(\"Contraseña Incorrecta ❌\")\n",
    "    "
   ]
  },
  {
   "cell_type": "markdown",
   "id": "e9e5eba6",
   "metadata": {},
   "source": [
    "22. Usa if/elif/else para determinar cuál es el mayor de tres números dados."
   ]
  },
  {
   "cell_type": "code",
   "execution_count": 2,
   "id": "0b60d6a8",
   "metadata": {},
   "outputs": [
    {
     "name": "stdout",
     "output_type": "stream",
     "text": [
      "\t===Evaluador de 3 números===\n",
      "Ingresaste 1\n",
      "Ingresaste 2\n",
      "Ingresaste 3\n",
      "El numero 3 es el mayor\n"
     ]
    }
   ],
   "source": [
    "print(\"\\t===Evaluador de 3 números===\")\n",
    "while(True):\n",
    "    try:\n",
    "        num1 = eval(input(\"Ingrese el primer numero: \"))\n",
    "        print(f\"Ingresaste {num1}\")\n",
    "        break\n",
    "    except:\n",
    "        print(\"Ingrese un valor valido\")\n",
    "while(True):\n",
    "    try:\n",
    "        num2 = eval(input(\"Ingrese el segundo numero: \"))\n",
    "        print(f\"Ingresaste {num2}\")\n",
    "        break\n",
    "    except:\n",
    "        print(\"Ingrese un valor valido\")\n",
    "while(True):\n",
    "    try:\n",
    "        num3 = eval(input(\"Ingrese el tercer numero: \"))\n",
    "        print(f\"Ingresaste {num3}\")\n",
    "        break\n",
    "    except:\n",
    "        print(\"Ingrese un valor valido\")\n",
    "\n",
    "if num1 > num2 and num1 > num3:\n",
    "    print(f\"El numero {num1} es el mayor\")\n",
    "elif num2 > num1 and num2 > num3:\n",
    "    print(f\"El numero {num2} es el mayor\")\n",
    "elif num3 > num2 and num3 > num1:\n",
    "    print(f\"El numero {num3} es el mayor\")\n",
    "else:\n",
    "    nums = [num1, num2, num3]\n",
    "    nums.sort(reverse = True)\n",
    "    print(f\"El numero {nums[0]} es el mayor\")"
   ]
  },
  {
   "cell_type": "markdown",
   "id": "3a5b9345",
   "metadata": {},
   "source": [
    "23. Crea un programa que clasifique las calificaciones en excelente, bueno, suficiente o insuficiente, basándose en el puntaje con if/elif/else."
   ]
  },
  {
   "cell_type": "code",
   "execution_count": 1,
   "id": "824fafe4",
   "metadata": {},
   "outputs": [
    {
     "name": "stdout",
     "output_type": "stream",
     "text": [
      "\t===Evaluador de Calificaciones===\n",
      "Ingrese una calificación valida\n",
      "Calificación Insuficiente\n",
      "Calificación: 0\n"
     ]
    }
   ],
   "source": [
    "print(\"\\t===Evaluador de Calificaciones===\")\n",
    "while(True):\n",
    "    try:\n",
    "        calif = eval(input(\"Ingrese una calificación(0-100): \"))\n",
    "\n",
    "        if calif < 0 or calif > 100:\n",
    "            raise ValueError(\"Ingrese una calificación valida\")\n",
    "        \n",
    "        if calif < 70:\n",
    "            print(\"Calificación Insuficiente\") \n",
    "        elif calif <= 80:\n",
    "            print(\"Calificación Suficiente\") \n",
    "        elif calif <= 90:\n",
    "            print(\"Calificación Buena\")\n",
    "        else:\n",
    "            print(\"Calificación Excelente\")\n",
    "        \n",
    "        print(f\"Calificación: {calif}\")\n",
    "        break\n",
    "        \n",
    "    except Exception as e:\n",
    "        print(e)"
   ]
  },
  {
   "cell_type": "markdown",
   "id": "0909c712",
   "metadata": {},
   "source": [
    "24. Escribe un programa que aplique descuentos a los precios de las entradas de cine según la edad del cliente, utilizando if/elif/else."
   ]
  },
  {
   "cell_type": "code",
   "execution_count": 2,
   "id": "6f7fdd09",
   "metadata": {},
   "outputs": [
    {
     "name": "stdout",
     "output_type": "stream",
     "text": [
      "\t===Evaluador de Descuentos===\n",
      "La edad no puede ser menor a 0, ingresaste: -1\n",
      "Ingresaste una edad de 12\n",
      "El precio del boleto es de 100$\n"
     ]
    }
   ],
   "source": [
    "print(\"\\t===Evaluador de Descuentos===\")\n",
    "while(True):\n",
    "    try:\n",
    "\n",
    "        edad = eval(input())\n",
    "        if edad < 0:\n",
    "            raise ValueError(f\"La edad no puede ser menor a 0, ingresaste: {edad}\")\n",
    "        elif edad <= 5:\n",
    "            print(f\"Ingresaste una edad de {edad}\\nEl precio del boleto es de 50$\")\n",
    "        elif edad >= 60:\n",
    "            print(f\"Ingresaste una edad de {edad}\\nEl precio del boleto es de 50$\")\n",
    "        else:\n",
    "            print(f\"Ingresaste una edad de {edad}\\nEl precio del boleto es de 100$\")\n",
    "        break\n",
    "\n",
    "    except TypeError:\n",
    "        print(\"Ingrese una edad valida\")\n",
    "    except Exception as e:\n",
    "        print(e)\n"
   ]
  },
  {
   "cell_type": "markdown",
   "id": "0318f429",
   "metadata": {},
   "source": [
    "25. Crea un programa que valide si la entrada del usuario es un número. Si no lo es, utiliza if/else para imprimir un mensaje de error."
   ]
  },
  {
   "cell_type": "code",
   "execution_count": 3,
   "id": "3286aea7",
   "metadata": {},
   "outputs": [
    {
     "name": "stdout",
     "output_type": "stream",
     "text": [
      "\t===Evaluador de Números===\n",
      "hola No es un número válido ❌\n",
      "Intente de nuevo.\n",
      "12 es un número entero ✔️\n"
     ]
    }
   ],
   "source": [
    "print(\"\\t===Evaluador de Números===\")\n",
    "while True:\n",
    "    n = input(\"Ingrese un número: \")\n",
    "\n",
    "    n = n.strip()\n",
    "\n",
    "    if n.replace('-', '', 1).isdigit():\n",
    "        print(f\"{n} es un número entero ✔️\")\n",
    "        n = int(n)\n",
    "        break\n",
    "    elif n.count('.') == 1 and n.replace('.', '', 1).replace('-', '', 1).isdigit():\n",
    "        print(f\"{n} es un número decimal (float) ✔️\")\n",
    "        n = float(n)\n",
    "        break\n",
    "    else:\n",
    "        print(f\"{n} No es un número válido ❌\\nIntente de nuevo.\")\n"
   ]
  },
  {
   "cell_type": "markdown",
   "id": "69e41ba0",
   "metadata": {},
   "source": [
    "26. Escribe un programa que determine si una palabra o frase es un palíndromo usando if/else."
   ]
  },
  {
   "cell_type": "code",
   "execution_count": null,
   "id": "d60caf43",
   "metadata": {},
   "outputs": [
    {
     "name": "stdout",
     "output_type": "stream",
     "text": [
      "\t===Evaluador de Palíndromo===\n",
      "Anita lava la tina es un palíndromo ✔️\n"
     ]
    }
   ],
   "source": [
    "print(\"\\t===Evaluador de Palíndromo===\")\n",
    "p = input(\"Ingrese un palíndromo\")\n",
    "np = p.strip().lower().replace(\" \", \"\")\n",
    "rp = np[::-1]\n",
    "if np == rp:\n",
    "    print(f\"{p} es un palíndromo ✔️\")\n",
    "else:\n",
    "    print(f\"{p} no es un palíndromo ❌\")"
   ]
  },
  {
   "cell_type": "markdown",
   "id": "55e1fc0f",
   "metadata": {},
   "source": [
    "27. Escribe un programa que valide la complejidad de una contraseña (longitud, inclusión de números y caracteres especiales, etc.) usando if/elif/else."
   ]
  },
  {
   "cell_type": "code",
   "execution_count": 20,
   "id": "58abf99e",
   "metadata": {},
   "outputs": [
    {
     "name": "stdout",
     "output_type": "stream",
     "text": [
      "\t=== Evaluador de Contraseñas ===\n",
      "Tiene mas de 8 caracteres\n",
      "Tiene números\n",
      "Tiene mayúsculas\n",
      "Tiene minúsculas\n",
      "Tiene caracteres especiales\n",
      "Nivel de complejidad: 5/5\n"
     ]
    }
   ],
   "source": [
    "nums = {'0','1','2','3','4','5','6','7','8','9'}\n",
    "especiales = {'!', '@', '#', '$', '%', '&', '?', '_', '-', '.'}\n",
    "\n",
    "print(\"\\t=== Evaluador de Contraseñas ===\")\n",
    "contra = input(\"Ingrese una contraseña: \")\n",
    "\n",
    "seg = 0\n",
    "\n",
    "if len(contra) > 8:\n",
    "    print(\"Tiene mas de 8 caracteres\")\n",
    "    seg += 1\n",
    "\n",
    "if any(n in contra for n in nums):\n",
    "    print(\"Tiene números\")\n",
    "    seg += 1\n",
    "\n",
    "if any(c.isupper() for c in contra):\n",
    "    print(\"Tiene mayúsculas\")\n",
    "    seg += 1\n",
    "\n",
    "if any(c.islower() for c in contra):\n",
    "    print(\"Tiene minúsculas\")\n",
    "    seg += 1\n",
    "\n",
    "if any(e in contra for e in especiales):\n",
    "    print(\"Tiene caracteres especiales\")\n",
    "    seg += 1\n",
    "\n",
    "print(f\"Nivel de complejidad: {seg}/5\")\n"
   ]
  },
  {
   "cell_type": "markdown",
   "id": "e36e47c4",
   "metadata": {},
   "source": [
    "28. Implementa un programa que valide si una cadena de texto cumple con el formato de una fecha (por ejemplo, \"dd/mm/aaaa\") usando if/else."
   ]
  },
  {
   "cell_type": "code",
   "execution_count": 22,
   "id": "548a9f5f",
   "metadata": {},
   "outputs": [
    {
     "name": "stdout",
     "output_type": "stream",
     "text": [
      "Ingresaste: 13/08/2003\n",
      "La fecha es válida y tiene el formato correcto ✔️\n"
     ]
    }
   ],
   "source": [
    "from datetime import datetime\n",
    "\n",
    "fecha = input(\"Ingrese una fecha (dd/mm/aaaa): \")\n",
    "print(f\"Ingresaste: {fecha}\")\n",
    "\n",
    "try:\n",
    "    datetime.strptime(fecha, \"%d/%m/%Y\")\n",
    "    print(\"La fecha es válida y tiene el formato correcto ✔️\")\n",
    "except ValueError:\n",
    "    print(\" La fecha no cumple con el formato o no existe ❌\")\n"
   ]
  },
  {
   "cell_type": "markdown",
   "id": "57ea999a",
   "metadata": {},
   "source": [
    "29. Crea un programa que simule un semáforo (rojo, amarillo, verde) y realice acciones diferentes dependiendo del color actual, utilizando if/elif/else."
   ]
  },
  {
   "cell_type": "code",
   "execution_count": 25,
   "id": "a91b0093",
   "metadata": {},
   "outputs": [
    {
     "name": "stdout",
     "output_type": "stream",
     "text": [
      "=== Simulador de Semáforo ===\n",
      "✅ Puedes avanzar.\n"
     ]
    }
   ],
   "source": [
    "print(\"=== Simulador de Semáforo ===\")\n",
    "\n",
    "color = input(\"Ingrese el color del semáforo (rojo, amarillo, verde): \").lower()\n",
    "\n",
    "if color == \"rojo\":\n",
    "    print(\"🚗 Detente.\")\n",
    "elif color == \"amarillo\":\n",
    "    print(\"⚠️  Precaución.\")\n",
    "elif color == \"verde\":\n",
    "    print(\"✅ Puedes avanzar.\")\n",
    "else:\n",
    "    print(\"❌ Color no válido. Intenta con rojo, amarillo o verde.\")\n"
   ]
  },
  {
   "cell_type": "markdown",
   "id": "6608e022",
   "metadata": {},
   "source": [
    "30. Implementa un programa que resuelva una ecuación cuadrática, manejando todas las posibles condiciones (raíces reales, complejas) usando if/elif/else."
   ]
  },
  {
   "cell_type": "code",
   "execution_count": 30,
   "id": "0d71b84c",
   "metadata": {},
   "outputs": [
    {
     "name": "stdout",
     "output_type": "stream",
     "text": [
      "=== Calculadora de Ecuaciones Cuadráticas ===\n",
      "Tu ecuación cuadrática que ingresaste fue:\n",
      "(2.0)X^2 + (9.0)X + (10.0)\n",
      "\n",
      "Discriminante = 1.0\n",
      "✅ Dos raíces reales distintas:\n",
      "x₁ = -2.00\n",
      "x₂ = -2.50\n"
     ]
    }
   ],
   "source": [
    "import math\n",
    "\n",
    "print(\"=== Calculadora de Ecuaciones Cuadráticas ===\")\n",
    "\n",
    "# Pedir coeficientes al usuario\n",
    "a = float(input(\"Ingrese el valor de a: \"))\n",
    "b = float(input(\"Ingrese el valor de b: \"))\n",
    "c = float(input(\"Ingrese el valor de c: \"))\n",
    "\n",
    "print(f\"Tu ecuación cuadrática que ingresaste fue:\\n({a})X^2 + ({b})X + ({c})\")\n",
    "# Calcular el discriminante\n",
    "discriminante = b**2 - 4*a*c\n",
    "\n",
    "print(f\"\\nDiscriminante = {discriminante}\")\n",
    "\n",
    "# Analizar los casos posibles\n",
    "if a == 0:\n",
    "    # Si a es 0, no es cuadrática\n",
    "    if b == 0:\n",
    "        print(\"❌ No es una ecuación válida (a y b son 0).\")\n",
    "    else:\n",
    "        x = -c / b\n",
    "        print(f\"Es una ecuación lineal. Solución: x = {x:.2f}\")\n",
    "elif discriminante > 0:\n",
    "    # Dos raíces reales y diferentes\n",
    "    x1 = (-b + math.sqrt(discriminante)) / (2*a)\n",
    "    x2 = (-b - math.sqrt(discriminante)) / (2*a)\n",
    "    print(f\"✅ Dos raíces reales distintas:\")\n",
    "    print(f\"x₁ = {x1:.2f}\")\n",
    "    print(f\"x₂ = {x2:.2f}\")\n",
    "elif discriminante == 0:\n",
    "    # Una raíz real doble\n",
    "    x = -b / (2*a)\n",
    "    print(f\"✅ Una raíz real doble:\")\n",
    "    print(f\"x = {x:.2f}\")\n",
    "else:\n",
    "    # Raíces complejas\n",
    "    parte_real = -b / (2*a)\n",
    "    parte_imaginaria = math.sqrt(-discriminante) / (2*a)\n",
    "    print(f\"🌀 Raíces complejas:\")\n",
    "    print(f\"x₁ = {parte_real:.2f} + {parte_imaginaria:.2f}i\")\n",
    "    print(f\"x₂ = {parte_real:.2f} - {parte_imaginaria:.2f}i\")\n"
   ]
  }
 ],
 "metadata": {
  "kernelspec": {
   "display_name": "Python 3",
   "language": "python",
   "name": "python3"
  },
  "language_info": {
   "codemirror_mode": {
    "name": "ipython",
    "version": 3
   },
   "file_extension": ".py",
   "mimetype": "text/x-python",
   "name": "python",
   "nbconvert_exporter": "python",
   "pygments_lexer": "ipython3",
   "version": "3.13.7"
  }
 },
 "nbformat": 4,
 "nbformat_minor": 5
}
